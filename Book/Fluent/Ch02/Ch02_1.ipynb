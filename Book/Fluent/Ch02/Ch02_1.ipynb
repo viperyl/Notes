{
 "cells": [
  {
   "cell_type": "code",
   "execution_count": 6,
   "id": "de0ad19c-cec4-4551-9a79-1b3daf0a78ef",
   "metadata": {},
   "outputs": [],
   "source": [
    "symbols = '$¢£¥€¤'"
   ]
  },
  {
   "cell_type": "code",
   "execution_count": 7,
   "id": "cea9e649-c409-42c7-8af0-eea6666f1f8c",
   "metadata": {},
   "outputs": [
    {
     "data": {
      "text/plain": [
       "[162, 163, 165, 8364, 164]"
      ]
     },
     "execution_count": 7,
     "metadata": {},
     "output_type": "execute_result"
    }
   ],
   "source": [
    "beyond_ascii = [ord(s) for s in symbols if ord(s) > 127]\n",
    "beyond_ascii"
   ]
  },
  {
   "cell_type": "code",
   "execution_count": 8,
   "id": "4653cd36-ba8b-4cc6-bf58-0d91fc8197bb",
   "metadata": {},
   "outputs": [
    {
     "data": {
      "text/plain": [
       "[162, 163, 165, 8364, 164]"
      ]
     },
     "execution_count": 8,
     "metadata": {},
     "output_type": "execute_result"
    }
   ],
   "source": [
    "beyond_ascii = list(filter(lambda c: c > 127, map(ord, symbols)))\n",
    "beyond_ascii"
   ]
  },
  {
   "cell_type": "code",
   "execution_count": 9,
   "id": "568d7c08-81b2-4534-953e-f58e7109f17f",
   "metadata": {},
   "outputs": [
    {
     "name": "stdout",
     "output_type": "stream",
     "text": [
      "['A◆', 'A♡', 'A♧', 'A♠', 'K◆', 'K♡', 'K♧', 'K♠', 'Q◆', 'Q♡', 'Q♧', 'Q♠']\n"
     ]
    }
   ],
   "source": [
    "R = [\"A\", \"K\", \"Q\"]\n",
    "S = [\"◆\", \"♡\", \"♧\", \"♠\"]\n",
    "\n",
    "res = [a+b for a in R for b in S]\n",
    "print(res)"
   ]
  },
  {
   "cell_type": "code",
   "execution_count": 16,
   "id": "8d976a54-b7f4-48fd-bb77-8070b2838575",
   "metadata": {},
   "outputs": [
    {
     "data": {
      "text/plain": [
       "(36, 162, 163, 165, 8364, 164)"
      ]
     },
     "execution_count": 16,
     "metadata": {},
     "output_type": "execute_result"
    }
   ],
   "source": [
    "tuple(ord(s) for s in symbols)"
   ]
  },
  {
   "cell_type": "code",
   "execution_count": 17,
   "id": "7c252105-11b1-4604-a9bb-986b112af29f",
   "metadata": {},
   "outputs": [
    {
     "data": {
      "text/plain": [
       "array('I', [36, 162, 163, 165, 8364, 164])"
      ]
     },
     "execution_count": 17,
     "metadata": {},
     "output_type": "execute_result"
    }
   ],
   "source": [
    "import array\n",
    "array.array(\"I\", (ord(s) for s in symbols))"
   ]
  },
  {
   "cell_type": "code",
   "execution_count": 18,
   "id": "7997172f-4e60-4333-9420-5984cb28429a",
   "metadata": {},
   "outputs": [
    {
     "name": "stdout",
     "output_type": "stream",
     "text": [
      "blackS\n",
      "blackM\n",
      "blackL\n",
      "whiteS\n",
      "whiteM\n",
      "whiteL\n"
     ]
    }
   ],
   "source": [
    "colors = [\"black\", \"white\"]\n",
    "sizes = [\"S\", \"M\", \"L\"]\n",
    "\n",
    "for tshirt in (\"%s%s\" %(c, s) for c in colors for s in sizes):\n",
    "    print(tshirt)"
   ]
  },
  {
   "cell_type": "code",
   "execution_count": 20,
   "id": "b6c8a345-52d5-45a0-8548-208d1ea5f046",
   "metadata": {},
   "outputs": [
    {
     "name": "stdout",
     "output_type": "stream",
     "text": [
      "('black', 'S')\n",
      "('black', 'M')\n",
      "('black', 'L')\n",
      "('white', 'S')\n",
      "('white', 'M')\n",
      "('white', 'L')\n"
     ]
    }
   ],
   "source": [
    "import itertools\n",
    "\n",
    "for item in itertools.product(colors, sizes):\n",
    "    print(item)"
   ]
  },
  {
   "cell_type": "code",
   "execution_count": null,
   "id": "f3fca152-bf3d-4e20-bce8-0add36a29984",
   "metadata": {},
   "outputs": [],
   "source": []
  },
  {
   "cell_type": "code",
   "execution_count": null,
   "id": "309618e7-45c0-444f-a86e-d442a5e46a7d",
   "metadata": {},
   "outputs": [],
   "source": []
  },
  {
   "cell_type": "code",
   "execution_count": null,
   "id": "2f139c9f-3ff0-48cc-9637-8a0bfeead400",
   "metadata": {},
   "outputs": [],
   "source": []
  }
 ],
 "metadata": {
  "kernelspec": {
   "display_name": "Python 3",
   "language": "python",
   "name": "python3"
  },
  "language_info": {
   "codemirror_mode": {
    "name": "ipython",
    "version": 3
   },
   "file_extension": ".py",
   "mimetype": "text/x-python",
   "name": "python",
   "nbconvert_exporter": "python",
   "pygments_lexer": "ipython3",
   "version": "3.9.12"
  }
 },
 "nbformat": 4,
 "nbformat_minor": 5
}
