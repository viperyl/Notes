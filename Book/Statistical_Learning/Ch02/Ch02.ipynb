{
 "cells": [
  {
   "cell_type": "markdown",
   "id": "75645af5-65dd-4df6-8ec0-b1ae84af9008",
   "metadata": {},
   "source": [
    "# Original Perceptron "
   ]
  },
  {
   "cell_type": "code",
   "execution_count": 1,
   "id": "779cb3d6-05a4-4f24-8282-5e9e6e927b13",
   "metadata": {},
   "outputs": [],
   "source": [
    "import numpy as np\n",
    "import matplotlib.pyplot as plt"
   ]
  },
  {
   "cell_type": "code",
   "execution_count": 2,
   "id": "ce723940-bc77-4881-adb7-b365557b215b",
   "metadata": {},
   "outputs": [],
   "source": [
    "X = np.array([(3, 3), (4,3), (1,1)])\n",
    "Y = np.array([1, 1, -1])"
   ]
  },
  {
   "cell_type": "code",
   "execution_count": 3,
   "id": "cd2090e6-c7d3-4101-a554-f1bbec3d9031",
   "metadata": {},
   "outputs": [],
   "source": [
    "w = np.random.rand(2).reshape(1,2)\n",
    "b = np.random.rand(1)\n",
    "eta = 0.5"
   ]
  },
  {
   "cell_type": "code",
   "execution_count": 4,
   "id": "a0fa6feb-f7cf-4cb9-ba34-cb6a80dcda88",
   "metadata": {},
   "outputs": [],
   "source": [
    "loop = True\n",
    "while loop:\n",
    "    counter = 0\n",
    "    for i in range(3):\n",
    "        res = (w @ X[i,:].reshape(2,1) + b) * Y[i]\n",
    "        if res < 0:\n",
    "            w += eta * Y[i] * X[i,:].reshape(1,2)\n",
    "            b += eta * Y[i]\n",
    "        else:\n",
    "            counter += 1\n",
    "    if counter == 3:\n",
    "        loop = False\n",
    "            \n",
    "        "
   ]
  },
  {
   "cell_type": "code",
   "execution_count": 5,
   "id": "d781ed6a-0633-4385-92f6-6ee64ee2caae",
   "metadata": {},
   "outputs": [
    {
     "data": {
      "text/plain": [
       "[<matplotlib.lines.Line2D at 0x7f1ebab4db50>]"
      ]
     },
     "execution_count": 5,
     "metadata": {},
     "output_type": "execute_result"
    },
    {
     "data": {
      "image/png": "[encoded data removed]",
      "text/plain": [
       "<Figure size 864x576 with 1 Axes>"
      ]
     },
     "metadata": {
      "needs_background": "light"
     },
     "output_type": "display_data"
    }
   ],
   "source": [
    "plt.figure(figsize=(12,8))\n",
    "for i in range(3):\n",
    "    if Y[i] == 1:\n",
    "        plt.plot(X[i,0], X[i,1], \"bo\")\n",
    "    else:\n",
    "        plt.plot(X[i,0], X[i,1], \"ro\")\n",
    "newx = [0, 5]\n",
    "newy = [-w[0][0]/w[0][1] * newx[0] - b/w[0][1], -w[0][0]/w[0][1] * newx[1] - b/w[0][1]]\n",
    "plt.plot(newx, newy)"
   ]
  },
  {
   "cell_type": "markdown",
   "id": "13caf0c9-5111-4f4a-adcd-19c290e4d221",
   "metadata": {},
   "source": [
    "# Dual perceptron "
   ]
  },
  {
   "cell_type": "code",
   "execution_count": 22,
   "id": "424426b9-764c-4032-aeb8-bbe10b43223d",
   "metadata": {},
   "outputs": [
    {
     "name": "stdout",
     "output_type": "stream",
     "text": [
      "[[18 21  6]\n",
      " [21 25  7]\n",
      " [ 6  7  2]]\n"
     ]
    }
   ],
   "source": [
    "X = np.array([[3,3], [4,3], [1,1]])\n",
    "Y = np.array([1, 1, -1])\n",
    "Gram = X @ X.T\n",
    "print(Gram)"
   ]
  },
  {
   "cell_type": "code",
   "execution_count": 23,
   "id": "19fdf835-ac7b-4ef5-ac1d-958c5fed19e0",
   "metadata": {},
   "outputs": [],
   "source": [
    "alpha = np.array([0, 0, 0])\n",
    "b = 0\n",
    "eta = 0.1"
   ]
  },
  {
   "cell_type": "code",
   "execution_count": 24,
   "id": "659a50b2-78d3-444a-951f-afa91f03619c",
   "metadata": {},
   "outputs": [
    {
     "name": "stdout",
     "output_type": "stream",
     "text": [
      "0 [0 0 0] 0.1\n"
     ]
    }
   ],
   "source": [
    "while True:\n",
    "    counter = 0\n",
    "    for i in range(3):\n",
    "        res =  np.sum(Y[i] * (alpha * Y * Gram[i,:])) + b\n",
    "        \n",
    "        if res <= 0:\n",
    "            alpha[i] = alpha[i] + eta\n",
    "            b = b + eta * Y[i]\n",
    "            print(res, alpha, b)\n",
    "        else:\n",
    "            counter += 1\n",
    "        \n",
    "    if counter == 3:\n",
    "        break"
   ]
  },
  {
   "cell_type": "markdown",
   "id": "55b4601b-b4e8-4c71-9e06-becb9c967e88",
   "metadata": {},
   "source": [
    "## 2.1"
   ]
  },
  {
   "cell_type": "code",
   "execution_count": 25,
   "id": "5acafb4b-faea-42d9-afa7-945fb5d02356",
   "metadata": {},
   "outputs": [],
   "source": [
    "X = np.array([[0, 0], [1,1], [0, 1], [1,0]])\n",
    "Y = np.array([0, 0, 1, 1])"
   ]
  },
  {
   "cell_type": "code",
   "execution_count": 27,
   "id": "f88bcc26-e93e-4351-b965-76b202ff83e7",
   "metadata": {},
   "outputs": [
    {
     "data": {
      "text/plain": [
       "[<matplotlib.lines.Line2D at 0x7f1eb9f54a90>]"
      ]
     },
     "execution_count": 27,
     "metadata": {},
     "output_type": "execute_result"
    },
    {
     "data": {
      "image/png": "[encoded data removed]",
      "text/plain": [
       "<Figure size 432x288 with 1 Axes>"
      ]
     },
     "metadata": {
      "needs_background": "light"
     },
     "output_type": "display_data"
    }
   ],
   "source": [
    "plt.plot(figsize=(12,8))\n",
    "plt.plot(X[:2,0], X[:2, 1], \"bo\")\n",
    "plt.plot(X[2:,0], X[2:, 1], \"ro\")"
   ]
  },
  {
   "cell_type": "code",
   "execution_count": null,
   "id": "e5131f04-1ad8-4d81-b8a6-fb0b7befb49d",
   "metadata": {},
   "outputs": [],
   "source": []
  },
  {
   "cell_type": "code",
   "execution_count": null,
   "id": "9bb4e722-864e-4ddb-ba15-85a58dc532db",
   "metadata": {},
   "outputs": [],
   "source": []
  },
  {
   "cell_type": "code",
   "execution_count": null,
   "id": "022eb413-8997-4e76-ba71-58f6d7ae5e50",
   "metadata": {},
   "outputs": [],
   "source": []
  }
 ],
 "metadata": {
  "kernelspec": {
   "display_name": "Python 3 (ipykernel)",
   "language": "python",
   "name": "python3"
  },
  "language_info": {
   "codemirror_mode": {
    "name": "ipython",
    "version": 3
   },
   "file_extension": ".py",
   "mimetype": "text/x-python",
   "name": "python",
   "nbconvert_exporter": "python",
   "pygments_lexer": "ipython3",
   "version": "3.9.5"
  }
 },
 "nbformat": 4,
 "nbformat_minor": 5
}
