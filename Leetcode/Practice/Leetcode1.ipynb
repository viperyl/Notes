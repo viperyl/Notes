{
 "cells": [
  {
   "cell_type": "code",
   "execution_count": 6,
   "id": "63b54655-d37d-455a-80e5-1ef6445f65a6",
   "metadata": {},
   "outputs": [],
   "source": [
    "def areSentencesSimilar(sentence1: str, sentence2: str):\n",
    "    sentence1 = sentence1.split(\" \")\n",
    "    sentence2 = sentence2.split(\" \")\n",
    "    return sentence1, sentence2"
   ]
  },
  {
   "cell_type": "code",
   "execution_count": 7,
   "id": "bab58ff6-24c4-442d-8273-0f8a8b5a4c14",
   "metadata": {},
   "outputs": [],
   "source": [
    "sentence1 = \"My name is Haley\"\n",
    "sentence2 = \"My Haley\""
   ]
  },
  {
   "cell_type": "code",
   "execution_count": 8,
   "id": "4cf3df83",
   "metadata": {},
   "outputs": [
    {
     "data": {
      "text/plain": [
       "(['My', 'name', 'is', 'Haley'], ['My', 'Haley'])"
      ]
     },
     "execution_count": 8,
     "metadata": {},
     "output_type": "execute_result"
    }
   ],
   "source": [
    "areSentencesSimilar(sentence1, sentence2)"
   ]
  },
  {
   "cell_type": "code",
   "execution_count": 17,
   "id": "f9afd09d",
   "metadata": {},
   "outputs": [
    {
     "data": {
      "text/plain": [
       "3"
      ]
     },
     "execution_count": 17,
     "metadata": {},
     "output_type": "execute_result"
    }
   ],
   "source": [
    "1 ^ 2"
   ]
  },
  {
   "cell_type": "code",
   "execution_count": null,
   "id": "25d2c484",
   "metadata": {},
   "outputs": [],
   "source": []
  }
 ],
 "metadata": {
  "kernelspec": {
   "display_name": "Python 3.9.12 ('base')",
   "language": "python",
   "name": "python3"
  },
  "language_info": {
   "codemirror_mode": {
    "name": "ipython",
    "version": 3
   },
   "file_extension": ".py",
   "mimetype": "text/x-python",
   "name": "python",
   "nbconvert_exporter": "python",
   "pygments_lexer": "ipython3",
   "version": "3.9.12"
  },
  "vscode": {
   "interpreter": {
    "hash": "d3d35fc1bd79aaf41d90165822e52d85b08b3d222b4aeaa3fa4022cc4f0b7161"
   }
  }
 },
 "nbformat": 4,
 "nbformat_minor": 5
}
