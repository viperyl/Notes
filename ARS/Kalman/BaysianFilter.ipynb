{
 "cells": [
  {
   "cell_type": "code",
   "execution_count": 1,
   "id": "d8946e6a-5fc7-4f40-8f8a-822ae7b89da8",
   "metadata": {},
   "outputs": [],
   "source": [
    "import numpy as np\n",
    "import kf_book.book_plots as book_plots\n",
    "from kf_book.book_plots import figsize, set_figsize\n",
    "import matplotlib.pyplot as plt"
   ]
  },
  {
   "cell_type": "code",
   "execution_count": 2,
   "id": "7a5a9083-6988-4b57-b397-672478640639",
   "metadata": {},
   "outputs": [
    {
     "name": "stdout",
     "output_type": "stream",
     "text": [
      "[0.1 0.1 0.1 0.1 0.1 0.1 0.1 0.1 0.1 0.1]\n"
     ]
    }
   ],
   "source": [
    "belief = np.array([1/10]*10)\n",
    "print(belief)"
   ]
  },
  {
   "cell_type": "code",
   "execution_count": 3,
   "id": "2fc08a70-58ee-4012-9a3e-a8a6f9dfcd50",
   "metadata": {},
   "outputs": [
    {
     "name": "stdout",
     "output_type": "stream",
     "text": [
      "[1 1 0 0 0 0 0 0 1 0]\n"
     ]
    }
   ],
   "source": [
    "A = [0] * 10\n",
    "A[0] = 1\n",
    "A[1] = 1\n",
    "A[-2] = 1\n",
    "hallway = np.array(A)\n",
    "print(hallway)"
   ]
  },
  {
   "cell_type": "code",
   "execution_count": 4,
   "id": "84bd5874-3b42-4307-a817-978702b14ece",
   "metadata": {},
   "outputs": [
    {
     "data": {
      "image/png": "[encoded data removed]",
      "text/plain": [
       "<Figure size 432x288 with 1 Axes>"
      ]
     },
     "metadata": {
      "needs_background": "light"
     },
     "output_type": "display_data"
    }
   ],
   "source": [
    "belief = hallway/3\n",
    "book_plots.bar_plot(belief)"
   ]
  },
  {
   "cell_type": "code",
   "execution_count": 5,
   "id": "fc45e3a0-412f-4d03-b348-c42db834a974",
   "metadata": {},
   "outputs": [],
   "source": [
    "def update_belief(hall, belief, z, corrct_scale):\n",
    "    for i, val in enumerate(hall):\n",
    "        if val == z:\n",
    "            belief[i] *= corrct_scale"
   ]
  },
  {
   "cell_type": "code",
   "execution_count": 6,
   "id": "03df84ab-f963-41b1-acf0-2055067e7b48",
   "metadata": {},
   "outputs": [
    {
     "name": "stdout",
     "output_type": "stream",
     "text": [
      "[0.3 0.3 0.1 0.1 0.1 0.1 0.1 0.1 0.3 0.1]\n"
     ]
    },
    {
     "data": {
      "image/png": "[encoded data removed]",
      "text/plain": [
       "<Figure size 432x288 with 1 Axes>"
      ]
     },
     "metadata": {
      "needs_background": "light"
     },
     "output_type": "display_data"
    }
   ],
   "source": [
    "belief = np.array([0.1] * 10)\n",
    "reading = 1\n",
    "update_belief(hallway, belief, reading, corrct_scale=3.0)\n",
    "print(belief)\n",
    "book_plots.bar_plot(belief)"
   ]
  },
  {
   "cell_type": "code",
   "execution_count": 7,
   "id": "48456ba2-5fd0-4e39-a52b-36d6f5d9f374",
   "metadata": {},
   "outputs": [
    {
     "name": "stdout",
     "output_type": "stream",
     "text": [
      "[0.1875 0.1875 0.0625 0.0625 0.0625 0.0625 0.0625 0.0625 0.1875 0.0625]\n"
     ]
    },
    {
     "data": {
      "image/png": "[encoded data removed]",
      "text/plain": [
       "<Figure size 432x288 with 1 Axes>"
      ]
     },
     "metadata": {
      "needs_background": "light"
     },
     "output_type": "display_data"
    }
   ],
   "source": [
    "belief = belief/sum(belief)\n",
    "book_plots.bar_plot(belief)\n",
    "print(belief)"
   ]
  },
  {
   "cell_type": "markdown",
   "id": "eef17333-6ece-4e31-a5c4-0324fdda4302",
   "metadata": {},
   "source": [
    "$$\\Large\n",
    "posterior = \\frac{likelihood\\times prior}{normalization}\n",
    "$$"
   ]
  },
  {
   "cell_type": "code",
   "execution_count": 9,
   "id": "f50b51a2-49ea-4237-9fa2-6c410624d210",
   "metadata": {},
   "outputs": [],
   "source": [
    "def scaled_update(hall, belief, z, z_prob):\n",
    "    scale = z_prob * (1. - z_prob)\n",
    "    likelihood = np.ones(len(hall))\n",
    "    likelihood[hall==z] *= scale\n",
    "    likelihood *= belief\n",
    "    return likelihood/sum(likelihood)"
   ]
  },
  {
   "cell_type": "markdown",
   "id": "4836fb4d-c8fe-41b5-86bc-9dd80bc8467c",
   "metadata": {},
   "source": [
    " <font size=\"6\"> Likelihood is not probability distribution, because sum of the likelihood is not equal 1\n",
    "</font>"
   ]
  },
  {
   "cell_type": "code",
   "execution_count": 11,
   "id": "af0c20af-c70e-44d7-8d37-8d035b9f982d",
   "metadata": {},
   "outputs": [],
   "source": [
    "from filterpy.discrete_bayes import normalize"
   ]
  },
  {
   "cell_type": "code",
   "execution_count": 47,
   "id": "37162648-577d-4027-a65e-3c280569bcde",
   "metadata": {},
   "outputs": [],
   "source": [
    "def lh_hallway(hall, z, z_prob):\n",
    "    try:\n",
    "        scale = z_prob / (1. - z_prob)\n",
    "    except ZeroDivisionError:\n",
    "        scale = 1e8\n",
    "    likelihood = np.ones(len(hall))\n",
    "    likelihood[hall == z] *= scale\n",
    "    return likelihood"
   ]
  },
  {
   "cell_type": "code",
   "execution_count": 16,
   "id": "e8858ba5-4a97-4e58-a3ac-601f616034d2",
   "metadata": {},
   "outputs": [],
   "source": [
    "def update(likelihood, belief):\n",
    "    return normalize(likelihood*belief)"
   ]
  },
  {
   "cell_type": "code",
   "execution_count": 17,
   "id": "a2528f41-d77c-434c-a017-f3aa09829b79",
   "metadata": {},
   "outputs": [
    {
     "data": {
      "text/plain": [
       "array([0.1875, 0.1875, 0.0625, 0.0625, 0.0625, 0.0625, 0.0625, 0.0625,\n",
       "       0.1875, 0.0625])"
      ]
     },
     "execution_count": 17,
     "metadata": {},
     "output_type": "execute_result"
    }
   ],
   "source": [
    "belief = np.array([0.1] * 10)\n",
    "likelihood = lh_hallway(hallway, z = 1, z_prob=0.75)\n",
    "update(likelihood, belief)"
   ]
  },
  {
   "cell_type": "code",
   "execution_count": 18,
   "id": "ea0d2311-c232-404f-9327-5ff2e7a085ce",
   "metadata": {},
   "outputs": [
    {
     "data": {
      "image/png": "[encoded data removed]",
      "text/plain": [
       "<Figure size 432x288 with 1 Axes>"
      ]
     },
     "metadata": {
      "needs_background": "light"
     },
     "output_type": "display_data"
    }
   ],
   "source": [
    "book_plots.bar_plot(update(likelihood, belief))"
   ]
  },
  {
   "cell_type": "markdown",
   "id": "5cf98399-ffb1-4aef-b62b-88549cfe2b6c",
   "metadata": {},
   "source": [
    "## Assume our movement sensor is pefect"
   ]
  },
  {
   "cell_type": "code",
   "execution_count": 21,
   "id": "4f5b1acc-58bd-4511-9ec3-29b744bbe646",
   "metadata": {},
   "outputs": [],
   "source": [
    "def perfect_predict(belief, move):\n",
    "    n = len(belief)\n",
    "    result = np.zeros(n)\n",
    "    for i in range(n):\n",
    "        result[i] = belief[(i-move)%n]\n",
    "    return result"
   ]
  },
  {
   "cell_type": "code",
   "execution_count": 22,
   "id": "7885c5ec-bd3b-4709-89f7-cc7859de9f15",
   "metadata": {},
   "outputs": [
    {
     "data": {
      "image/png": "[encoded data removed]",
      "text/plain": [
       "<Figure size 432x288 with 2 Axes>"
      ]
     },
     "metadata": {
      "needs_background": "light"
     },
     "output_type": "display_data"
    }
   ],
   "source": [
    "belief = np.array([0.35, 0.1, 0.2, 0.3, 0, 0, 0, 0, 0, 0.05])\n",
    "plt.subplot(121)\n",
    "book_plots.bar_plot(belief, ylim=(0, 0.4))\n",
    "belief = perfect_predict(belief, 1)d\n",
    "plt.subplot(122)\n",
    "book_plots.bar_plot(belief, ylim=(0, 0.4))"
   ]
  },
  {
   "cell_type": "code",
   "execution_count": 23,
   "id": "ea617842-fc1f-4ed3-8209-68637f17da11",
   "metadata": {},
   "outputs": [],
   "source": [
    "from ipywidgets import interact, IntSlider"
   ]
  },
  {
   "cell_type": "code",
   "execution_count": 27,
   "id": "765e1d73-eb1b-4695-a86b-9d4058cb27cc",
   "metadata": {},
   "outputs": [
    {
     "data": {
      "application/vnd.jupyter.widget-view+json": {
       "model_id": "0bd4d871d4dd4dfcb76f80eb617523dc",
       "version_major": 2,
       "version_minor": 0
      },
      "text/plain": [
       "interactive(children=(IntSlider(value=0, description='time_step', max=19), Output()), _dom_classes=('widget-in…"
      ]
     },
     "metadata": {},
     "output_type": "display_data"
    },
    {
     "data": {
      "text/plain": [
       "<function __main__.simulate(time_step)>"
      ]
     },
     "execution_count": 27,
     "metadata": {},
     "output_type": "execute_result"
    }
   ],
   "source": [
    "belief = np.array([0.35, 0.1, 0.2, 0.3, 0, 0, 0, 0, 0, 0.05])\n",
    "perfect_beliefs = []\n",
    "for _ in range(20):\n",
    "    belief = perfect_predict(belief, 1)\n",
    "    perfect_beliefs.append(belief)\n",
    "\n",
    "def simulate(time_step):\n",
    "    book_plots.bar_plot(perfect_beliefs[time_step], ylim = [0, 0.4])\n",
    "    \n",
    "interact(simulate, time_step = IntSlider(value=0, max=len(perfect_beliefs)-1))"
   ]
  },
  {
   "cell_type": "markdown",
   "id": "d748a758-8a10-4acc-9857-f6dc135a9dd8",
   "metadata": {},
   "source": [
    "# Terminology"
   ]
  },
  {
   "cell_type": "markdown",
   "id": "7661ffbf-780e-40ab-b6d4-1f7d86a211f9",
   "metadata": {},
   "source": [
    "System: we are trying to model or filter\n",
    "\n",
    "\n",
    "state: current configuration or value\n",
    "\n",
    "\n",
    "evolution: one cycle of prediction and updating with a mesruement\n"
   ]
  },
  {
   "cell_type": "markdown",
   "id": "35b67f29-df92-4f63-a192-3bf37fc400d0",
   "metadata": {},
   "source": [
    "## Assume our movement sensor is imperfect"
   ]
  },
  {
   "cell_type": "code",
   "execution_count": 28,
   "id": "82929bbb-7cf6-4681-b0b4-85ba1f90d377",
   "metadata": {},
   "outputs": [],
   "source": [
    "def predict_move(belief, move, p_under, p_correct, p_over):\n",
    "    n = len(belief)\n",
    "    prior = np.zeros(n)\n",
    "    for i in range(n):\n",
    "        prior[i] = belief[(i-move)%n] * p_correct + belief[(i-move-1)%n] * p_over + belief[(i-move + 1)%n] * p_under\n",
    "    return prior"
   ]
  },
  {
   "cell_type": "code",
   "execution_count": 29,
   "id": "4c185536-123f-4171-8cb0-1e4293162dad",
   "metadata": {},
   "outputs": [
    {
     "data": {
      "image/png": "[encoded data removed]",
      "text/plain": [
       "<Figure size 432x288 with 2 Axes>"
      ]
     },
     "metadata": {
      "needs_background": "light"
     },
     "output_type": "display_data"
    }
   ],
   "source": [
    "belief = [0] * 10\n",
    "belief[4] = 1\n",
    "belief = np.array(belief)\n",
    "prior = predict_move(belief, 1, 0.1, 0.8, 0.1)\n",
    "book_plots.plot_belief_vs_prior(belief, prior)"
   ]
  },
  {
   "cell_type": "code",
   "execution_count": 30,
   "id": "46277f48-9d53-4177-be7d-e876f819e0ed",
   "metadata": {},
   "outputs": [
    {
     "data": {
      "image/png": "[encoded data removed]",
      "text/plain": [
       "<Figure size 432x288 with 1 Axes>"
      ]
     },
     "metadata": {
      "needs_background": "light"
     },
     "output_type": "display_data"
    }
   ],
   "source": [
    "for i in range(100):\n",
    "    prior = predict_move(prior, 1, 0.1, 0.8, 0.1)\n",
    "book_plots.bar_plot(prior, ylim = (0., 0.4))"
   ]
  },
  {
   "cell_type": "code",
   "execution_count": 33,
   "id": "a86293b7-31d6-4fed-9209-719adb1ba76d",
   "metadata": {},
   "outputs": [
    {
     "data": {
      "application/vnd.jupyter.widget-view+json": {
       "model_id": "8e8efaa2dc6e424097e9e6d3596ccb2d",
       "version_major": 2,
       "version_minor": 0
      },
      "text/plain": [
       "interactive(children=(IntSlider(value=1, description='step', max=99), Output()), _dom_classes=('widget-interac…"
      ]
     },
     "metadata": {},
     "output_type": "display_data"
    },
    {
     "data": {
      "text/plain": [
       "<function __main__.show_prior(step)>"
      ]
     },
     "execution_count": 33,
     "metadata": {},
     "output_type": "execute_result"
    }
   ],
   "source": [
    "belief = [0] * 10\n",
    "belief[0] = 1.\n",
    "belief = np.array(belief)\n",
    "predict_beliefs = []\n",
    "for i in range(100):\n",
    "    belief = predict_move(belief, 1, 0.1, 0.8, 0.1)\n",
    "    predict_beliefs.append(belief)\n",
    "\n",
    "def show_prior(step):\n",
    "    book_plots.bar_plot(predict_beliefs[step])\n",
    "    plt.title(\"step {}\".format(step))\n",
    "    \n",
    "interact(show_prior, step = IntSlider(value=1, max=len(predict_beliefs)-1))"
   ]
  },
  {
   "cell_type": "markdown",
   "id": "3f8cb57f-d98a-4586-849a-93cead0bbbcf",
   "metadata": {},
   "source": [
    "## Convolution"
   ]
  },
  {
   "cell_type": "code",
   "execution_count": 35,
   "id": "69afa8b4-f5ed-4c24-a118-362ae79050fa",
   "metadata": {},
   "outputs": [],
   "source": [
    "def predict_move_convolution(pdf, offset, kernel):\n",
    "    N = len(pdf)\n",
    "    kN = len(kernel)\n",
    "    width = int((kN - 1)/2)\n",
    "    prior = np.zeros(N)\n",
    "    for i in range(N):\n",
    "        for k in range(kN):\n",
    "            index = (i + (width - k) - offset) % N\n",
    "            prior[i] += pdf[index] * kernel[k]\n",
    "    return prior"
   ]
  },
  {
   "cell_type": "code",
   "execution_count": 39,
   "id": "f4847235-5dbe-4062-b59f-564a0ceba4e8",
   "metadata": {},
   "outputs": [],
   "source": [
    "from filterpy.discrete_bayes import update\n",
    "from filterpy.discrete_bayes import predict"
   ]
  },
  {
   "cell_type": "code",
   "execution_count": 37,
   "id": "ed722e76-3711-45f3-83f6-8f877c90e388",
   "metadata": {},
   "outputs": [
    {
     "data": {
      "image/png": "[encoded data removed]",
      "text/plain": [
       "<Figure size 432x288 with 2 Axes>"
      ]
     },
     "metadata": {
      "needs_background": "light"
     },
     "output_type": "display_data"
    }
   ],
   "source": [
    "hallway = np.array([1, 1, 0, 0, 0, 0, 0, 0, 1, 0])\n",
    "prior = np.array([0.1] * 10)\n",
    "likelihood = lh_hallway(hallway, z=1, z_prob=0.75)\n",
    "posterior = update(likelihood, prior)\n",
    "book_plots.plot_prior_vs_posterior(prior, posterior, ylim=(0, 0.5))"
   ]
  },
  {
   "cell_type": "code",
   "execution_count": 40,
   "id": "8bac64e0-7abc-4f54-a819-6c7859a59962",
   "metadata": {},
   "outputs": [
    {
     "data": {
      "image/png": "[encoded data removed]",
      "text/plain": [
       "<Figure size 432x288 with 2 Axes>"
      ]
     },
     "metadata": {
      "needs_background": "light"
     },
     "output_type": "display_data"
    }
   ],
   "source": [
    "kernel = (0.1, 0.8, 0.1)\n",
    "prior = predict(posterior, 1, kernel)\n",
    "book_plots.plot_prior_vs_posterior(prior, posterior, True, ylim=(0., 0.5))"
   ]
  },
  {
   "cell_type": "code",
   "execution_count": 41,
   "id": "0d83acac-327e-47ef-aba5-c66ab8ac0d0a",
   "metadata": {},
   "outputs": [
    {
     "data": {
      "image/png": "[encoded data removed]",
      "text/plain": [
       "<Figure size 432x288 with 2 Axes>"
      ]
     },
     "metadata": {
      "needs_background": "light"
     },
     "output_type": "display_data"
    }
   ],
   "source": [
    "likelihood = lh_hallway(hallway, z=1, z_prob=0.75)\n",
    "posterior = update(likelihood, prior)\n",
    "book_plots.plot_prior_vs_posterior(prior, posterior, ylim=(0,0.5))"
   ]
  },
  {
   "cell_type": "code",
   "execution_count": 42,
   "id": "7506ff18-7562-4731-9431-e3f35f716ebb",
   "metadata": {},
   "outputs": [
    {
     "data": {
      "image/png": "[encoded data removed]",
      "text/plain": [
       "<Figure size 432x288 with 2 Axes>"
      ]
     },
     "metadata": {
      "needs_background": "light"
     },
     "output_type": "display_data"
    }
   ],
   "source": [
    "likelihood = lh_hallway(hallway, z=0, z_prob=0.75)\n",
    "posterior = update(likelihood, prior)\n",
    "book_plots.plot_prior_vs_posterior(prior, posterior, ylim=(0,0.5))"
   ]
  },
  {
   "cell_type": "markdown",
   "id": "27d12e0e-7e78-419d-b852-fd55faea72d2",
   "metadata": {},
   "source": [
    "**Initialization**\n",
    "\n",
    "1. Initialize our belief in the state\n",
    "\n",
    "\n",
    "**Predict**\n",
    "\n",
    "1. Based on the system behavior, predict state for the next time step\n",
    "\n",
    "2. Adjust belief to account for the unvertainty in prediction\n",
    "\n",
    "\n",
    "**Update**\n",
    "\n",
    "1. Get a measurement and associated belief about its accuracy\n",
    "\n",
    "2. Compute how likely it is the measurement mathces each state\n",
    "\n",
    "3. Update state belief with this likelihood\n",
    "\n"
   ]
  },
  {
   "cell_type": "code",
   "execution_count": 43,
   "id": "46e4fc44-634b-477a-bb10-76366f365366",
   "metadata": {},
   "outputs": [],
   "source": [
    "def discrete_bayes_sim(priror, kernel, measurements, z_prob, hallway):\n",
    "    posterior = np.array([0.1] * 10)\n",
    "    priors = []\n",
    "    posteriors = []\n",
    "    for i, z in enumerate(measurements):\n",
    "        prior = predict(posterior, 1, kernel)\n",
    "        priors.append(prior)\n",
    "        \n",
    "        likelihood = lh_hallway(hallway, z, z_prob)\n",
    "        posterior = update(likelihood, prior)\n",
    "        posteriors.append(posterior)\n",
    "    return priors, posteriors"
   ]
  },
  {
   "cell_type": "code",
   "execution_count": 49,
   "id": "d5dfd263-0d70-4cc4-be32-f84f1d906850",
   "metadata": {},
   "outputs": [],
   "source": [
    "def discrete_bayes_sim(prior, kernel, measurements, z_prob, hallway):\n",
    "    posterior = np.array([.1]*10)\n",
    "    priors, posteriors = [], []\n",
    "    for i, z in enumerate(measurements):\n",
    "        prior = predict(posterior, 1, kernel)\n",
    "        priors.append(prior)\n",
    "\n",
    "        likelihood = lh_hallway(hallway, z, z_prob)\n",
    "        posterior = update(likelihood, prior)\n",
    "        posteriors.append(posterior)\n",
    "    return priors, posteriors\n",
    "\n",
    "\n",
    "def plot_posterior(hallway, posteriors, i):\n",
    "    plt.title('Posterior')\n",
    "    book_plots.bar_plot(hallway, c='k')\n",
    "    book_plots.bar_plot(posteriors[i], ylim=(0, 1.0))\n",
    "    plt.axvline(i % len(hallway), lw=5)    \n",
    "    \n",
    "def plot_prior(hallway, priors, i):\n",
    "    plt.title('Prior')\n",
    "    book_plots.bar_plot(hallway, c='k')\n",
    "    book_plots.bar_plot(priors[i], ylim=(0, 1.0), c='#ff8015')\n",
    "    plt.axvline(i % len(hallway), lw=5)    \n",
    "\n",
    "def animate_discrete_bayes(hallway, priors, posteriors):\n",
    "    def animate(step):\n",
    "        step -= 1\n",
    "        i = step // 2    \n",
    "        if step % 2 == 0:\n",
    "            plot_prior(hallway, priors, i)\n",
    "        else:\n",
    "            plot_posterior(hallway, posteriors, i)\n",
    "    \n",
    "    return animate"
   ]
  },
  {
   "cell_type": "code",
   "execution_count": 53,
   "id": "349e8600-da8c-4dfc-a9c4-c0f302741fb7",
   "metadata": {},
   "outputs": [
    {
     "data": {
      "application/vnd.jupyter.widget-view+json": {
       "model_id": "5d2067aff752402b8266dac3edd1db53",
       "version_major": 2,
       "version_minor": 0
      },
      "text/plain": [
       "interactive(children=(IntSlider(value=1, description='step'), Output()), _dom_classes=('widget-interact',))"
      ]
     },
     "metadata": {},
     "output_type": "display_data"
    },
    {
     "data": {
      "text/plain": [
       "<function __main__.animate_discrete_bayes.<locals>.animate(step)>"
      ]
     },
     "execution_count": 53,
     "metadata": {},
     "output_type": "execute_result"
    }
   ],
   "source": [
    "kernel = (0.1, 0.8, 0.1)\n",
    "z_prob = 1.0\n",
    "hallway = np.array([1, 1, 0, 0, 0, 0, 0, 0, 1, 0])\n",
    "zs = [hallway[i%len(hallway)] for i in range(50)]\n",
    "priors, posteriors = discrete_bayes_sim(prior, kernel, zs, z_prob, hallway)\n",
    "interact(animate_discrete_bayes(hallway, priors, posteriors), step=IntSlider(value=1, max=len(priors)*2))\n"
   ]
  },
  {
   "cell_type": "code",
   "execution_count": null,
   "id": "87d5e7a9-e5f2-4258-8010-e51e3a5a7860",
   "metadata": {},
   "outputs": [],
   "source": []
  },
  {
   "cell_type": "code",
   "execution_count": null,
   "id": "a37fc6a9-ed0e-4124-ab9e-4ea35967a395",
   "metadata": {},
   "outputs": [],
   "source": [
    "\n"
   ]
  },
  {
   "cell_type": "code",
   "execution_count": null,
   "id": "f65451c3-5f12-4b21-ab11-b10bb0e14809",
   "metadata": {},
   "outputs": [],
   "source": []
  },
  {
   "cell_type": "code",
   "execution_count": null,
   "id": "5ac2ace2-90b0-428b-8e14-53c499dd324e",
   "metadata": {},
   "outputs": [],
   "source": []
  },
  {
   "cell_type": "code",
   "execution_count": null,
   "id": "96737505-1225-4692-9863-46335b683fc0",
   "metadata": {},
   "outputs": [],
   "source": []
  },
  {
   "cell_type": "code",
   "execution_count": null,
   "id": "c5a73efd-ffdf-493e-a920-a166b1b629d0",
   "metadata": {},
   "outputs": [],
   "source": []
  },
  {
   "cell_type": "code",
   "execution_count": null,
   "id": "8ed5cadb-6d70-4a49-b407-8948b3a8da95",
   "metadata": {},
   "outputs": [],
   "source": []
  },
  {
   "cell_type": "code",
   "execution_count": null,
   "id": "db19ff84-ec87-4889-95e7-edfe5f77f1c8",
   "metadata": {},
   "outputs": [],
   "source": []
  },
  {
   "cell_type": "code",
   "execution_count": null,
   "id": "1c1171a6-2c29-4ab5-90e7-aa11f30edd75",
   "metadata": {},
   "outputs": [],
   "source": []
  },
  {
   "cell_type": "code",
   "execution_count": null,
   "id": "ee22a0bc-83d1-4893-baac-9a46efbfd0bf",
   "metadata": {},
   "outputs": [],
   "source": []
  },
  {
   "cell_type": "code",
   "execution_count": null,
   "id": "fc619dbb-c19b-4ce7-95d4-45a354cbc612",
   "metadata": {},
   "outputs": [],
   "source": []
  },
  {
   "cell_type": "code",
   "execution_count": null,
   "id": "79e5105a-0a08-42c6-b56a-3d5dc1b03613",
   "metadata": {},
   "outputs": [],
   "source": []
  },
  {
   "cell_type": "code",
   "execution_count": null,
   "id": "10569615-091a-4ff0-8d73-31d67724335e",
   "metadata": {},
   "outputs": [],
   "source": []
  },
  {
   "cell_type": "code",
   "execution_count": null,
   "id": "9309531d-1561-445f-92b9-7f1cd0f3f93c",
   "metadata": {},
   "outputs": [],
   "source": []
  },
  {
   "cell_type": "code",
   "execution_count": null,
   "id": "5fffffc0-6b13-4db4-bd75-a03391833eb4",
   "metadata": {},
   "outputs": [],
   "source": []
  },
  {
   "cell_type": "code",
   "execution_count": null,
   "id": "d89f489f-e34d-4748-8cb4-34fff01a761e",
   "metadata": {},
   "outputs": [],
   "source": []
  }
 ],
 "metadata": {
  "kernelspec": {
   "display_name": "Python 3 (ipykernel)",
   "language": "python",
   "name": "python3"
  },
  "language_info": {
   "codemirror_mode": {
    "name": "ipython",
    "version": 3
   },
   "file_extension": ".py",
   "mimetype": "text/x-python",
   "name": "python",
   "nbconvert_exporter": "python",
   "pygments_lexer": "ipython3",
   "version": "3.9.5"
  }
 },
 "nbformat": 4,
 "nbformat_minor": 5
}
