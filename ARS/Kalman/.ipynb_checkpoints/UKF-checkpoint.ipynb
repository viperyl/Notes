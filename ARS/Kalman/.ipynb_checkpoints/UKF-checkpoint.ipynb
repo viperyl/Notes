{
 "cells": [
  {
   "cell_type": "code",
   "execution_count": 1,
   "id": "fd60ab60-a5a8-48ce-ad02-42b831748455",
   "metadata": {},
   "outputs": [],
   "source": [
    "from kf_book.book_plots import set_figsize, figsize\n",
    "import matplotlib.pyplot as plt\n",
    "from kf_book.nonlinear_plots import plot_nonlinear_func\n",
    "from numpy.random import normal\n",
    "import numpy as np"
   ]
  },
  {
   "cell_type": "code",
   "execution_count": null,
   "id": "e8a8181f-6182-4db2-9668-3ad6edee843e",
   "metadata": {},
   "outputs": [],
   "source": [
    "gaussian = (0., 1.)"
   ]
  }
 ],
 "metadata": {
  "kernelspec": {
   "display_name": "Python 3 (ipykernel)",
   "language": "python",
   "name": "python3"
  },
  "language_info": {
   "codemirror_mode": {
    "name": "ipython",
    "version": 3
   },
   "file_extension": ".py",
   "mimetype": "text/x-python",
   "name": "python",
   "nbconvert_exporter": "python",
   "pygments_lexer": "ipython3",
   "version": "3.9.5"
  }
 },
 "nbformat": 4,
 "nbformat_minor": 5
}
