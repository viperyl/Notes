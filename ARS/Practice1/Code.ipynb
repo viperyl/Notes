{
 "cells": [
  {
   "cell_type": "code",
   "execution_count": 1,
   "id": "62ce0f1f-2a68-4987-95a0-ea4ade64766a",
   "metadata": {},
   "outputs": [],
   "source": [
    "import scipy.io as sio\n",
    "import numpy as np\n",
    "import pandas as pd"
   ]
  },
  {
   "cell_type": "code",
   "execution_count": 2,
   "id": "503c8e52-c0b5-497d-b9dc-2190121d7453",
   "metadata": {},
   "outputs": [],
   "source": [
    "variable = sio.loadmat(\"./kf_practical/data/sensor_data.mat\")"
   ]
  },
  {
   "cell_type": "code",
   "execution_count": 3,
   "id": "8913b810-3482-4089-a13f-bb0a58d6289a",
   "metadata": {},
   "outputs": [
    {
     "name": "stdout",
     "output_type": "stream",
     "text": [
      "__header__\n",
      "__version__\n",
      "__globals__\n",
      "data\n",
      "variableNames\n"
     ]
    }
   ],
   "source": [
    "for k, v in variable.items():\n",
    "    print(k)"
   ]
  },
  {
   "cell_type": "code",
   "execution_count": 4,
   "id": "b96d96ab-db81-4dea-b495-27390cfa74e4",
   "metadata": {},
   "outputs": [
    {
     "name": "stdout",
     "output_type": "stream",
     "text": [
      "[[array(['Timestamp [s]'], dtype='<U13')\n",
      "  array(['Global X [m]'], dtype='<U12')\n",
      "  array(['Global Y [m]'], dtype='<U12') array(['Range [m]'], dtype='<U9')\n",
      "  array(['Bearing [rad]'], dtype='<U13')]]\n",
      "5\n",
      "5\n"
     ]
    }
   ],
   "source": [
    "print(variable[\"variableNames\"])\n",
    "print(len(variable[\"variableNames\"][0]))\n",
    "print(len(variable[\"data\"][0]))"
   ]
  },
  {
   "cell_type": "code",
   "execution_count": 5,
   "id": "bfe1670b-fe3c-4c76-bbf0-3ba2892011a3",
   "metadata": {},
   "outputs": [
    {
     "data": {
      "text/plain": [
       "['Timestamp', 'Global X', 'Global Y', 'Range', 'Bearing']"
      ]
     },
     "execution_count": 5,
     "metadata": {},
     "output_type": "execute_result"
    }
   ],
   "source": [
    "column_name = [i[0].split(\" \")[0] for i in variable[\"variableNames\"][0]]\n",
    "column_name[1] += \" X\"\n",
    "column_name[2] += \" Y\"\n",
    "column_name"
   ]
  },
  {
   "cell_type": "code",
   "execution_count": 6,
   "id": "569012df-ac82-43f5-910c-54e13a142716",
   "metadata": {},
   "outputs": [
    {
     "name": "stdout",
     "output_type": "stream",
     "text": [
      "(1031, 5)\n"
     ]
    }
   ],
   "source": [
    "raw_data = np.vstack([i for i in variable[\"data\"]]);\n",
    "print(raw_data.shape)"
   ]
  },
  {
   "cell_type": "code",
   "execution_count": 7,
   "id": "52f47a45-df6d-4e98-82ce-75dca949dd39",
   "metadata": {},
   "outputs": [
    {
     "data": {
      "text/html": [
       "<div>\n",
       "<style scoped>\n",
       "    .dataframe tbody tr th:only-of-type {\n",
       "        vertical-align: middle;\n",
       "    }\n",
       "\n",
       "    .dataframe tbody tr th {\n",
       "        vertical-align: top;\n",
       "    }\n",
       "\n",
       "    .dataframe thead th {\n",
       "        text-align: right;\n",
       "    }\n",
       "</style>\n",
       "<table border=\"1\" class=\"dataframe\">\n",
       "  <thead>\n",
       "    <tr style=\"text-align: right;\">\n",
       "      <th></th>\n",
       "      <th>Timestamp</th>\n",
       "      <th>Global X</th>\n",
       "      <th>Global Y</th>\n",
       "      <th>Range</th>\n",
       "      <th>Bearing</th>\n",
       "    </tr>\n",
       "  </thead>\n",
       "  <tbody>\n",
       "    <tr>\n",
       "      <th>0</th>\n",
       "      <td>0.0</td>\n",
       "      <td>179.820254</td>\n",
       "      <td>276.504102</td>\n",
       "      <td>148.715430</td>\n",
       "      <td>1.008220</td>\n",
       "    </tr>\n",
       "    <tr>\n",
       "      <th>1</th>\n",
       "      <td>0.1</td>\n",
       "      <td>179.684454</td>\n",
       "      <td>275.593219</td>\n",
       "      <td>148.637634</td>\n",
       "      <td>1.004353</td>\n",
       "    </tr>\n",
       "    <tr>\n",
       "      <th>2</th>\n",
       "      <td>0.2</td>\n",
       "      <td>179.947281</td>\n",
       "      <td>274.939092</td>\n",
       "      <td>148.496555</td>\n",
       "      <td>1.003498</td>\n",
       "    </tr>\n",
       "    <tr>\n",
       "      <th>3</th>\n",
       "      <td>0.3</td>\n",
       "      <td>179.805348</td>\n",
       "      <td>274.329455</td>\n",
       "      <td>149.586602</td>\n",
       "      <td>1.000930</td>\n",
       "    </tr>\n",
       "    <tr>\n",
       "      <th>4</th>\n",
       "      <td>0.4</td>\n",
       "      <td>180.460459</td>\n",
       "      <td>273.344521</td>\n",
       "      <td>148.655644</td>\n",
       "      <td>0.995270</td>\n",
       "    </tr>\n",
       "  </tbody>\n",
       "</table>\n",
       "</div>"
      ],
      "text/plain": [
       "   Timestamp    Global X    Global Y       Range   Bearing\n",
       "0        0.0  179.820254  276.504102  148.715430  1.008220\n",
       "1        0.1  179.684454  275.593219  148.637634  1.004353\n",
       "2        0.2  179.947281  274.939092  148.496555  1.003498\n",
       "3        0.3  179.805348  274.329455  149.586602  1.000930\n",
       "4        0.4  180.460459  273.344521  148.655644  0.995270"
      ]
     },
     "execution_count": 7,
     "metadata": {},
     "output_type": "execute_result"
    }
   ],
   "source": [
    "sensor_data = pd.DataFrame(columns=column_name, data=raw_data)\n",
    "sensor_data.head(5)"
   ]
  },
  {
   "cell_type": "code",
   "execution_count": 8,
   "id": "40b21a9a-f8d9-4a9d-b326-8da2d66195f1",
   "metadata": {},
   "outputs": [
    {
     "name": "stdout",
     "output_type": "stream",
     "text": [
      "__header__\n",
      "__version__\n",
      "__globals__\n",
      "gt\n",
      "variableNames\n"
     ]
    }
   ],
   "source": [
    "variable = sio.loadmat(\"./kf_practical/data/groundtruth.mat\")\n",
    "for k, v in variable.items():\n",
    "    print(k)"
   ]
  },
  {
   "cell_type": "code",
   "execution_count": 9,
   "id": "5e9664ec-1192-40e7-94d9-049a6b9faba9",
   "metadata": {},
   "outputs": [
    {
     "data": {
      "text/plain": [
       "['Timestamp', 'Global X', 'Global Y', 'Range', 'Bearing']"
      ]
     },
     "execution_count": 9,
     "metadata": {},
     "output_type": "execute_result"
    }
   ],
   "source": [
    "column_name = [i[0].split(\" \")[0] for i in variable[\"variableNames\"][0]]\n",
    "column_name[1] += \" X\"\n",
    "column_name[2] += \" Y\"\n",
    "column_name"
   ]
  },
  {
   "cell_type": "code",
   "execution_count": 10,
   "id": "8ac47b78-b6cb-4c3f-b7fe-8fd206a08086",
   "metadata": {},
   "outputs": [
    {
     "name": "stdout",
     "output_type": "stream",
     "text": [
      "(1031, 5)\n"
     ]
    }
   ],
   "source": [
    "raw_data = np.vstack([i for i in variable[\"gt\"]]);\n",
    "print(raw_data.shape)"
   ]
  },
  {
   "cell_type": "code",
   "execution_count": 11,
   "id": "d6e1ed9c-dad1-45e3-b64c-db854944e8e2",
   "metadata": {},
   "outputs": [
    {
     "data": {
      "text/html": [
       "<div>\n",
       "<style scoped>\n",
       "    .dataframe tbody tr th:only-of-type {\n",
       "        vertical-align: middle;\n",
       "    }\n",
       "\n",
       "    .dataframe tbody tr th {\n",
       "        vertical-align: top;\n",
       "    }\n",
       "\n",
       "    .dataframe thead th {\n",
       "        text-align: right;\n",
       "    }\n",
       "</style>\n",
       "<table border=\"1\" class=\"dataframe\">\n",
       "  <thead>\n",
       "    <tr style=\"text-align: right;\">\n",
       "      <th></th>\n",
       "      <th>Timestamp</th>\n",
       "      <th>Global X</th>\n",
       "      <th>Global Y</th>\n",
       "      <th>Range</th>\n",
       "      <th>Bearing</th>\n",
       "    </tr>\n",
       "  </thead>\n",
       "  <tbody>\n",
       "    <tr>\n",
       "      <th>0</th>\n",
       "      <td>0.0</td>\n",
       "      <td>179.807477</td>\n",
       "      <td>276.261422</td>\n",
       "      <td>149.369274</td>\n",
       "      <td>1.007121</td>\n",
       "    </tr>\n",
       "    <tr>\n",
       "      <th>1</th>\n",
       "      <td>0.1</td>\n",
       "      <td>179.898912</td>\n",
       "      <td>275.593810</td>\n",
       "      <td>148.854430</td>\n",
       "      <td>1.004206</td>\n",
       "    </tr>\n",
       "    <tr>\n",
       "      <th>2</th>\n",
       "      <td>0.2</td>\n",
       "      <td>179.990348</td>\n",
       "      <td>274.907654</td>\n",
       "      <td>148.325243</td>\n",
       "      <td>1.001202</td>\n",
       "    </tr>\n",
       "    <tr>\n",
       "      <th>3</th>\n",
       "      <td>0.3</td>\n",
       "      <td>180.081783</td>\n",
       "      <td>274.221497</td>\n",
       "      <td>147.797403</td>\n",
       "      <td>0.998178</td>\n",
       "    </tr>\n",
       "    <tr>\n",
       "      <th>4</th>\n",
       "      <td>0.4</td>\n",
       "      <td>180.173218</td>\n",
       "      <td>273.535341</td>\n",
       "      <td>147.270925</td>\n",
       "      <td>0.995131</td>\n",
       "    </tr>\n",
       "  </tbody>\n",
       "</table>\n",
       "</div>"
      ],
      "text/plain": [
       "   Timestamp    Global X    Global Y       Range   Bearing\n",
       "0        0.0  179.807477  276.261422  149.369274  1.007121\n",
       "1        0.1  179.898912  275.593810  148.854430  1.004206\n",
       "2        0.2  179.990348  274.907654  148.325243  1.001202\n",
       "3        0.3  180.081783  274.221497  147.797403  0.998178\n",
       "4        0.4  180.173218  273.535341  147.270925  0.995131"
      ]
     },
     "execution_count": 11,
     "metadata": {},
     "output_type": "execute_result"
    }
   ],
   "source": [
    "groundTruth = pd.DataFrame(data=raw_data, columns=column_name)\n",
    "groundTruth.head(5)"
   ]
  },
  {
   "cell_type": "markdown",
   "id": "1947cc80-dc45-4a7f-88b4-10eea0a9aa09",
   "metadata": {},
   "source": [
    "# Linear Kalman Filter"
   ]
  },
  {
   "cell_type": "code",
   "execution_count": 12,
   "id": "113848e2-0702-4307-af89-f5f5849089d5",
   "metadata": {},
   "outputs": [],
   "source": [
    "sigma_X = sensor_data[\"Global X\"].var()\n",
    "sigma_Y = sensor_data[\"Global Y\"].var() "
   ]
  },
  {
   "cell_type": "code",
   "execution_count": 14,
   "id": "83141200-9ffd-4cdf-8eed-9be605a73317",
   "metadata": {},
   "outputs": [],
   "source": [
    "dt = 0.1\n",
    "# State transition matrix\n",
    "F = np.array([[1, dt, 0, 0],\n",
    "              [0,  1, 0, 0],\n",
    "              [0, 0, 1, dt],\n",
    "              [0, 0, 0,  1]])\n",
    "# measurement matrix\n",
    "H = np.array([[1, 0, 0, 0],\n",
    "              [0, 0, 1, 0]])\n",
    "x = np.zeros((4, len(raw_data)))"
   ]
  },
  {
   "cell_type": "code",
   "execution_count": 15,
   "id": "db6a5242-73b5-4f4b-a064-f1b65257d399",
   "metadata": {},
   "outputs": [],
   "source": [
    "R = np.array([[sigma_X**2, 0],\n",
    "              [0, sigma_Y**2]])"
   ]
  },
  {
   "cell_type": "code",
   "execution_count": 31,
   "id": "8ebd4aca-42c1-49fc-9de2-6b68ca0d9300",
   "metadata": {},
   "outputs": [],
   "source": [
    "vx = np.gradient(sensor_data[\"Global X\"].to_numpy())\n",
    "vy = np.gradient(sensor_data[\"Global Y\"].to_numpy())\n",
    "ax = np.gradient(vx)\n",
    "ay = np.gradient(vy)"
   ]
  },
  {
   "cell_type": "code",
   "execution_count": 32,
   "id": "88958822-4821-4129-9642-861de221561a",
   "metadata": {},
   "outputs": [
    {
     "name": "stdout",
     "output_type": "stream",
     "text": [
      "0.0013995084137268556\n",
      "-1.5187692280122468e-05\n"
     ]
    }
   ],
   "source": [
    "ax_m = np.mean(ax)\n",
    "ay_m = np.mean(ay)\n",
    "print(ax_m)\n",
    "print(ay_m)"
   ]
  },
  {
   "cell_type": "code",
   "execution_count": 33,
   "id": "5cebef31-5a2a-457a-93ac-33dec8bbbeb7",
   "metadata": {},
   "outputs": [],
   "source": [
    "ds_x = 0.5 * ax_m * dt ** 2\n",
    "ds_y = 0.5 * ay_m * dt ** 2\n",
    "dv_x = ax_m * dt\n",
    "dv_y = ay_m * dt"
   ]
  },
  {
   "cell_type": "code",
   "execution_count": 34,
   "id": "a06bf781-0730-4d15-8351-c295688972b6",
   "metadata": {},
   "outputs": [],
   "source": [
    "Q = np.array([[1, 0],\n",
    "              [0, 1]])"
   ]
  },
  {
   "cell_type": "code",
   "execution_count": 35,
   "id": "0bd43e72-9031-4e19-8e7b-72fc812207ea",
   "metadata": {},
   "outputs": [],
   "source": [
    "P = np.array([[100, 0],\n",
    "              [0, 100]])"
   ]
  },
  {
   "cell_type": "code",
   "execution_count": null,
   "id": "5093b440-9821-45d8-9dee-419a05e551dc",
   "metadata": {},
   "outputs": [],
   "source": [
    "for i in range(1, len(raw_data)):\n",
    "    xa = np.array([[sensor_data[\"Global X\"][i],\n",
    "                   [sensor_data[\"Global Y\"][i]]]])\n",
    "    Pa = F.dot(P).dot(F.T) + Q\n",
    "    \n",
    "    dz = sensor_"
   ]
  },
  {
   "cell_type": "code",
   "execution_count": null,
   "id": "8b2c88fb-c8a0-4af7-ba03-2ef382b51c04",
   "metadata": {},
   "outputs": [],
   "source": []
  },
  {
   "cell_type": "code",
   "execution_count": null,
   "id": "7672290c-f1aa-4ce6-ad10-2d45d1a693e1",
   "metadata": {},
   "outputs": [],
   "source": []
  },
  {
   "cell_type": "code",
   "execution_count": null,
   "id": "d6852577-2186-4706-8dc9-e161071a3019",
   "metadata": {},
   "outputs": [],
   "source": []
  },
  {
   "cell_type": "code",
   "execution_count": null,
   "id": "3d7eab60-df52-44bc-83f6-75b64ff6955b",
   "metadata": {},
   "outputs": [],
   "source": []
  },
  {
   "cell_type": "code",
   "execution_count": null,
   "id": "1623d82a-59c0-4622-8896-92697428d09a",
   "metadata": {},
   "outputs": [],
   "source": []
  },
  {
   "cell_type": "code",
   "execution_count": null,
   "id": "cb6fadc1-2897-4d99-bc92-fa47fad864c6",
   "metadata": {},
   "outputs": [],
   "source": []
  },
  {
   "cell_type": "code",
   "execution_count": null,
   "id": "49a69b33-1b15-4abb-9846-a1313d097a4b",
   "metadata": {},
   "outputs": [],
   "source": []
  },
  {
   "cell_type": "code",
   "execution_count": null,
   "id": "80694d6c-3ddc-4ecd-b442-f5531dbaa7a4",
   "metadata": {},
   "outputs": [],
   "source": []
  },
  {
   "cell_type": "code",
   "execution_count": null,
   "id": "5d732b28-ccff-4709-977f-10bf2380c5cd",
   "metadata": {},
   "outputs": [],
   "source": []
  }
 ],
 "metadata": {
  "kernelspec": {
   "display_name": "Python 3 (ipykernel)",
   "language": "python",
   "name": "python3"
  },
  "language_info": {
   "codemirror_mode": {
    "name": "ipython",
    "version": 3
   },
   "file_extension": ".py",
   "mimetype": "text/x-python",
   "name": "python",
   "nbconvert_exporter": "python",
   "pygments_lexer": "ipython3",
   "version": "3.9.5"
  }
 },
 "nbformat": 4,
 "nbformat_minor": 5
}
