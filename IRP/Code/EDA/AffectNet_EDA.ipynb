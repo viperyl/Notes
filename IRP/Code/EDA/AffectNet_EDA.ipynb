{
 "cells": [
  {
   "cell_type": "code",
   "execution_count": 1,
   "id": "f83e6d49-bf08-47bf-a008-a5c090345999",
   "metadata": {},
   "outputs": [],
   "source": [
    "import numpy as np\n",
    "import pandas as pd\n",
    "from tqdm import tqdm\n",
    "import dask.dataframe as dd\n",
    "from dask.multiprocessing import get\n",
    "import cv2\n",
    "from tqdm import tqdm\n",
    "\n",
    "import matplotlib.pyplot as plt\n",
    "\n",
    "tqdm.pandas()"
   ]
  },
  {
   "cell_type": "code",
   "execution_count": 2,
   "id": "58acdb13-8b8a-4e81-bc21-f7dca6bb4442",
   "metadata": {},
   "outputs": [
    {
     "data": {
      "text/html": [
       "<div>\n",
       "<style scoped>\n",
       "    .dataframe tbody tr th:only-of-type {\n",
       "        vertical-align: middle;\n",
       "    }\n",
       "\n",
       "    .dataframe tbody tr th {\n",
       "        vertical-align: top;\n",
       "    }\n",
       "\n",
       "    .dataframe thead th {\n",
       "        text-align: right;\n",
       "    }\n",
       "</style>\n",
       "<table border=\"1\" class=\"dataframe\">\n",
       "  <thead>\n",
       "    <tr style=\"text-align: right;\">\n",
       "      <th></th>\n",
       "      <th>pth</th>\n",
       "      <th>label</th>\n",
       "    </tr>\n",
       "  </thead>\n",
       "  <tbody>\n",
       "    <tr>\n",
       "      <th>0</th>\n",
       "      <td>anger/image0000006.jpg</td>\n",
       "      <td>surprise</td>\n",
       "    </tr>\n",
       "    <tr>\n",
       "      <th>1</th>\n",
       "      <td>anger/image0000007.jpg</td>\n",
       "      <td>anger</td>\n",
       "    </tr>\n",
       "    <tr>\n",
       "      <th>2</th>\n",
       "      <td>anger/image0000012.jpg</td>\n",
       "      <td>anger</td>\n",
       "    </tr>\n",
       "    <tr>\n",
       "      <th>3</th>\n",
       "      <td>anger/image0000035.jpg</td>\n",
       "      <td>fear</td>\n",
       "    </tr>\n",
       "    <tr>\n",
       "      <th>4</th>\n",
       "      <td>anger/image0000060.jpg</td>\n",
       "      <td>anger</td>\n",
       "    </tr>\n",
       "  </tbody>\n",
       "</table>\n",
       "</div>"
      ],
      "text/plain": [
       "                      pth     label\n",
       "0  anger/image0000006.jpg  surprise\n",
       "1  anger/image0000007.jpg     anger\n",
       "2  anger/image0000012.jpg     anger\n",
       "3  anger/image0000035.jpg      fear\n",
       "4  anger/image0000060.jpg     anger"
      ]
     },
     "execution_count": 2,
     "metadata": {},
     "output_type": "execute_result"
    }
   ],
   "source": [
    "label_path = \"/run/media/viper/LSP/Dataset/Affect/labels.csv\"\n",
    "df = pd.read_csv(label_path, sep=\",\")\n",
    "df.head()"
   ]
  },
  {
   "cell_type": "code",
   "execution_count": null,
   "id": "81556a65-6ba8-4b0f-9ec6-665c56fe9886",
   "metadata": {},
   "outputs": [],
   "source": []
  },
  {
   "cell_type": "code",
   "execution_count": null,
   "id": "5aaa37c1-fe93-4739-bddb-6b9231eb7fe8",
   "metadata": {},
   "outputs": [],
   "source": []
  },
  {
   "cell_type": "code",
   "execution_count": null,
   "id": "301a1f62-d5cb-4f8e-bc6c-fdfac7c31d80",
   "metadata": {},
   "outputs": [],
   "source": []
  },
  {
   "cell_type": "code",
   "execution_count": null,
   "id": "9ffbd867-621c-437c-913e-0aa8d0388143",
   "metadata": {},
   "outputs": [],
   "source": []
  },
  {
   "cell_type": "code",
   "execution_count": null,
   "id": "b85fb4ea-081a-4b6a-a7f9-16bc8044e2ef",
   "metadata": {},
   "outputs": [],
   "source": []
  },
  {
   "cell_type": "code",
   "execution_count": null,
   "id": "1baa905e-8256-4989-833d-5acf180a97eb",
   "metadata": {},
   "outputs": [],
   "source": []
  },
  {
   "cell_type": "code",
   "execution_count": 2,
   "id": "3a2af113-3a36-4988-b1a8-063a2a91f2fb",
   "metadata": {},
   "outputs": [
    {
     "data": {
      "text/html": [
       "<div>\n",
       "<style scoped>\n",
       "    .dataframe tbody tr th:only-of-type {\n",
       "        vertical-align: middle;\n",
       "    }\n",
       "\n",
       "    .dataframe tbody tr th {\n",
       "        vertical-align: top;\n",
       "    }\n",
       "\n",
       "    .dataframe thead th {\n",
       "        text-align: right;\n",
       "    }\n",
       "</style>\n",
       "<table border=\"1\" class=\"dataframe\">\n",
       "  <thead>\n",
       "    <tr style=\"text-align: right;\">\n",
       "      <th></th>\n",
       "      <th>pth</th>\n",
       "      <th>label</th>\n",
       "    </tr>\n",
       "  </thead>\n",
       "  <tbody>\n",
       "    <tr>\n",
       "      <th>0</th>\n",
       "      <td>anger/image0000006.jpg</td>\n",
       "      <td>surprise</td>\n",
       "    </tr>\n",
       "    <tr>\n",
       "      <th>1</th>\n",
       "      <td>anger/image0000007.jpg</td>\n",
       "      <td>anger</td>\n",
       "    </tr>\n",
       "    <tr>\n",
       "      <th>2</th>\n",
       "      <td>anger/image0000012.jpg</td>\n",
       "      <td>anger</td>\n",
       "    </tr>\n",
       "    <tr>\n",
       "      <th>3</th>\n",
       "      <td>anger/image0000035.jpg</td>\n",
       "      <td>fear</td>\n",
       "    </tr>\n",
       "    <tr>\n",
       "      <th>4</th>\n",
       "      <td>anger/image0000060.jpg</td>\n",
       "      <td>anger</td>\n",
       "    </tr>\n",
       "  </tbody>\n",
       "</table>\n",
       "</div>"
      ],
      "text/plain": [
       "                      pth     label\n",
       "0  anger/image0000006.jpg  surprise\n",
       "1  anger/image0000007.jpg     anger\n",
       "2  anger/image0000012.jpg     anger\n",
       "3  anger/image0000035.jpg      fear\n",
       "4  anger/image0000060.jpg     anger"
      ]
     },
     "execution_count": 2,
     "metadata": {},
     "output_type": "execute_result"
    }
   ],
   "source": []
  },
  {
   "cell_type": "code",
   "execution_count": 5,
   "id": "4d0940de-e655-4dc4-9f93-8a389ec079a7",
   "metadata": {},
   "outputs": [],
   "source": [
    "def get_hw(row):\n",
    "    img = cv2.imread(\"/run/media/viper/LSP/Dataset/Affect/\" + row)\n",
    "    return f\"{img.shape[0]},{img.shape[1]},{img.shape[2]}\""
   ]
  },
  {
   "cell_type": "code",
   "execution_count": 6,
   "id": "a46d7034-bd65-4d18-900c-0f0bf4f15e36",
   "metadata": {},
   "outputs": [
    {
     "name": "stderr",
     "output_type": "stream",
     "text": [
      "100%|██████████| 31002/31002 [12:23<00:00, 41.68it/s]\n"
     ]
    }
   ],
   "source": [
    "df[\"hw\"] = df[\"pth\"].progress_apply(get_hw)"
   ]
  },
  {
   "cell_type": "code",
   "execution_count": 13,
   "id": "9ce86e96-4cf5-4429-99d5-50720afae705",
   "metadata": {},
   "outputs": [
    {
     "name": "stdout",
     "output_type": "stream",
     "text": [
      "6\n"
     ]
    }
   ],
   "source": [
    "counter = 0\n",
    "for i in range(len(df)):\n",
    "    v = df.iloc[i][\"hw\"].split(\",\")\n",
    "    if v[0] != v[1]:\n",
    "        counter += 1\n",
    "print(counter)"
   ]
  },
  {
   "cell_type": "code",
   "execution_count": 44,
   "id": "a55e870a-c506-4778-8b85-ead027b80ad0",
   "metadata": {},
   "outputs": [
    {
     "name": "stderr",
     "output_type": "stream",
     "text": [
      "100%|██████████| 3444/3444 [03:17<00:00, 17.41it/s]\n",
      "100%|██████████| 3445/3445 [00:36<00:00, 93.22it/s] \n",
      "100%|██████████| 3445/3445 [00:53<00:00, 64.45it/s]\n",
      "100%|██████████| 3444/3444 [02:10<00:00, 26.35it/s]\n",
      "100%|██████████| 3445/3445 [00:35<00:00, 96.74it/s] \n",
      "100%|██████████| 3445/3445 [00:36<00:00, 94.66it/s] \n",
      "100%|██████████| 3444/3444 [00:54<00:00, 62.91it/s]\n",
      "100%|██████████| 3445/3445 [00:40<00:00, 85.99it/s]\n",
      "100%|██████████| 3445/3445 [04:13<00:00, 13.62it/s]\n"
     ]
    }
   ],
   "source": [
    "chunksize = 10\n",
    "se_index = np.linspace(0, len(df), chunksize).astype(int)\n",
    "for i in range(chunksize - 1):\n",
    "    X_affectnet = np.zeros((se_index[i+1]-se_index[i], 224, 224, 3))\n",
    "    for j in tqdm(range(se_index[i], se_index[i+1])):\n",
    "        img = cv2.imread(\"/run/media/viper/LSP/Dataset/Affect/\" + df.iloc[i][\"pth\"])\n",
    "        img = cv2.cvtColor(img, cv2.COLOR_BGR2RGB)\n",
    "        resized = cv2.resize(img, dim, interpolation = cv2.INTER_AREA)\n",
    "        X_affectnet[j-se_index[i],:,:,:] = resized\n",
    "    np.save(\"/run/media/viper/LSP/Dataset/IRP_data/Affect/X_affectnet\"+ str(i) + \".npy\", X_affectnet, allow_pickle=True)"
   ]
  },
  {
   "cell_type": "code",
   "execution_count": 3,
   "id": "d0d6092f-f786-401a-b6dc-68e7591fc831",
   "metadata": {},
   "outputs": [],
   "source": [
    "Y = pd.get_dummies(df[\"label\"])"
   ]
  },
  {
   "cell_type": "code",
   "execution_count": 4,
   "id": "d8c8f853-fbba-4a6d-b1eb-0e10e04fd90c",
   "metadata": {},
   "outputs": [
    {
     "data": {
      "text/html": [
       "<div>\n",
       "<style scoped>\n",
       "    .dataframe tbody tr th:only-of-type {\n",
       "        vertical-align: middle;\n",
       "    }\n",
       "\n",
       "    .dataframe tbody tr th {\n",
       "        vertical-align: top;\n",
       "    }\n",
       "\n",
       "    .dataframe thead th {\n",
       "        text-align: right;\n",
       "    }\n",
       "</style>\n",
       "<table border=\"1\" class=\"dataframe\">\n",
       "  <thead>\n",
       "    <tr style=\"text-align: right;\">\n",
       "      <th></th>\n",
       "      <th>anger</th>\n",
       "      <th>contempt</th>\n",
       "      <th>disgust</th>\n",
       "      <th>fear</th>\n",
       "      <th>happy</th>\n",
       "      <th>neutral</th>\n",
       "      <th>sad</th>\n",
       "      <th>surprise</th>\n",
       "    </tr>\n",
       "  </thead>\n",
       "  <tbody>\n",
       "    <tr>\n",
       "      <th>0</th>\n",
       "      <td>0</td>\n",
       "      <td>0</td>\n",
       "      <td>0</td>\n",
       "      <td>0</td>\n",
       "      <td>0</td>\n",
       "      <td>0</td>\n",
       "      <td>0</td>\n",
       "      <td>1</td>\n",
       "    </tr>\n",
       "    <tr>\n",
       "      <th>1</th>\n",
       "      <td>1</td>\n",
       "      <td>0</td>\n",
       "      <td>0</td>\n",
       "      <td>0</td>\n",
       "      <td>0</td>\n",
       "      <td>0</td>\n",
       "      <td>0</td>\n",
       "      <td>0</td>\n",
       "    </tr>\n",
       "    <tr>\n",
       "      <th>2</th>\n",
       "      <td>1</td>\n",
       "      <td>0</td>\n",
       "      <td>0</td>\n",
       "      <td>0</td>\n",
       "      <td>0</td>\n",
       "      <td>0</td>\n",
       "      <td>0</td>\n",
       "      <td>0</td>\n",
       "    </tr>\n",
       "    <tr>\n",
       "      <th>3</th>\n",
       "      <td>0</td>\n",
       "      <td>0</td>\n",
       "      <td>0</td>\n",
       "      <td>1</td>\n",
       "      <td>0</td>\n",
       "      <td>0</td>\n",
       "      <td>0</td>\n",
       "      <td>0</td>\n",
       "    </tr>\n",
       "    <tr>\n",
       "      <th>4</th>\n",
       "      <td>1</td>\n",
       "      <td>0</td>\n",
       "      <td>0</td>\n",
       "      <td>0</td>\n",
       "      <td>0</td>\n",
       "      <td>0</td>\n",
       "      <td>0</td>\n",
       "      <td>0</td>\n",
       "    </tr>\n",
       "  </tbody>\n",
       "</table>\n",
       "</div>"
      ],
      "text/plain": [
       "   anger  contempt  disgust  fear  happy  neutral  sad  surprise\n",
       "0      0         0        0     0      0        0    0         1\n",
       "1      1         0        0     0      0        0    0         0\n",
       "2      1         0        0     0      0        0    0         0\n",
       "3      0         0        0     1      0        0    0         0\n",
       "4      1         0        0     0      0        0    0         0"
      ]
     },
     "execution_count": 4,
     "metadata": {},
     "output_type": "execute_result"
    }
   ],
   "source": [
    "Y.head()"
   ]
  },
  {
   "cell_type": "code",
   "execution_count": 5,
   "id": "c6feabaf-67b0-4636-b93e-ab544ebd1b0f",
   "metadata": {},
   "outputs": [],
   "source": [
    "Y_np = Y.to_numpy()"
   ]
  },
  {
   "cell_type": "code",
   "execution_count": 7,
   "id": "d04dd10a-e6ee-48bb-8304-2c641363b223",
   "metadata": {},
   "outputs": [],
   "source": [
    "chunksize = 10\n",
    "se_index = np.linspace(0, len(df), chunksize).astype(int)\n",
    "for i in range(chunksize - 1):\n",
    "    # Y_affectnet = np.zeros((se_index[i+1]-se_index[i], 8))\n",
    "    Y_affectnet = Y_np[se_index[i]:se_index[i+1],:]\n",
    "    np.save(\"/run/media/viper/LSP/Dataset/IRP_data/Affect/Y_affectnet\"+ str(i) + \".npy\", Y_affectnet, allow_pickle=True)"
   ]
  }
 ],
 "metadata": {
  "kernelspec": {
   "display_name": "Python 3",
   "language": "python",
   "name": "python3"
  },
  "language_info": {
   "codemirror_mode": {
    "name": "ipython",
    "version": 3
   },
   "file_extension": ".py",
   "mimetype": "text/x-python",
   "name": "python",
   "nbconvert_exporter": "python",
   "pygments_lexer": "ipython3",
   "version": "3.9.7"
  }
 },
 "nbformat": 4,
 "nbformat_minor": 5
}
