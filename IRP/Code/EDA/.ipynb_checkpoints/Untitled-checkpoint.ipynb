{
 "cells": [
  {
   "cell_type": "code",
   "execution_count": 43,
   "id": "81d65e17-ca03-49f1-bd2a-d373752cbb63",
   "metadata": {},
   "outputs": [],
   "source": [
    "import numpy as np\n",
    "import pandas as pd\n",
    "\n",
    "import cv2"
   ]
  },
  {
   "cell_type": "code",
   "execution_count": 44,
   "id": "cb6557dd-31d2-4a96-85b5-57d57f312092",
   "metadata": {},
   "outputs": [],
   "source": [
    "label_path = \"/run/media/viper/LSP/Dataset/RAF-DB/basic/EmoLabel/list_patition_label.txt\"\n",
    "df = pd.read_csv(label_path, sep=\" \", header=None)\n",
    "df.columns = [\"fr\", \"label\"];"
   ]
  },
  {
   "cell_type": "code",
   "execution_count": 45,
   "id": "5f27f9b5-0f93-41fd-a63e-fe663d82fa70",
   "metadata": {},
   "outputs": [],
   "source": [
    "def origin_path(row):\n",
    "    return \"/run/media/viper/LSP/Dataset/RAF-DB/basic/Image/original/\" + row\n",
    "\n",
    "def align_path(row):\n",
    "    return \"/run/media/viper/LSP/Dataset/RAF-DB/basic/Image/aligned/\" + row.split('.')[0] + '_aligned.' + row.split('.')[1]\n",
    "\n",
    "def get_hw(row):\n",
    "    img = cv2.imread(row)\n",
    "    return f\"{img.shape[0]},{img.shape[1]},{img.shape[2]}\""
   ]
  },
  {
   "cell_type": "code",
   "execution_count": 46,
   "id": "17ba1474-bd14-42b6-bcaf-c5c338711a21",
   "metadata": {},
   "outputs": [],
   "source": [
    "df[\"aligned_fr\"] = df[\"fr\"].apply(align_path)"
   ]
  },
  {
   "cell_type": "code",
   "execution_count": 47,
   "id": "4989746b-3d84-415b-8042-c3e3ad99192b",
   "metadata": {},
   "outputs": [
    {
     "data": {
      "text/html": [
       "<div>\n",
       "<style scoped>\n",
       "    .dataframe tbody tr th:only-of-type {\n",
       "        vertical-align: middle;\n",
       "    }\n",
       "\n",
       "    .dataframe tbody tr th {\n",
       "        vertical-align: top;\n",
       "    }\n",
       "\n",
       "    .dataframe thead th {\n",
       "        text-align: right;\n",
       "    }\n",
       "</style>\n",
       "<table border=\"1\" class=\"dataframe\">\n",
       "  <thead>\n",
       "    <tr style=\"text-align: right;\">\n",
       "      <th></th>\n",
       "      <th>fr</th>\n",
       "      <th>label</th>\n",
       "      <th>aligned_fr</th>\n",
       "    </tr>\n",
       "  </thead>\n",
       "  <tbody>\n",
       "    <tr>\n",
       "      <th>0</th>\n",
       "      <td>train_00001.jpg</td>\n",
       "      <td>5</td>\n",
       "      <td>/run/media/viper/LSP/Dataset/RAF-DB/basic/Imag...</td>\n",
       "    </tr>\n",
       "    <tr>\n",
       "      <th>1</th>\n",
       "      <td>train_00002.jpg</td>\n",
       "      <td>5</td>\n",
       "      <td>/run/media/viper/LSP/Dataset/RAF-DB/basic/Imag...</td>\n",
       "    </tr>\n",
       "    <tr>\n",
       "      <th>2</th>\n",
       "      <td>train_00003.jpg</td>\n",
       "      <td>4</td>\n",
       "      <td>/run/media/viper/LSP/Dataset/RAF-DB/basic/Imag...</td>\n",
       "    </tr>\n",
       "    <tr>\n",
       "      <th>3</th>\n",
       "      <td>train_00004.jpg</td>\n",
       "      <td>4</td>\n",
       "      <td>/run/media/viper/LSP/Dataset/RAF-DB/basic/Imag...</td>\n",
       "    </tr>\n",
       "    <tr>\n",
       "      <th>4</th>\n",
       "      <td>train_00005.jpg</td>\n",
       "      <td>5</td>\n",
       "      <td>/run/media/viper/LSP/Dataset/RAF-DB/basic/Imag...</td>\n",
       "    </tr>\n",
       "  </tbody>\n",
       "</table>\n",
       "</div>"
      ],
      "text/plain": [
       "                fr  label                                         aligned_fr\n",
       "0  train_00001.jpg      5  /run/media/viper/LSP/Dataset/RAF-DB/basic/Imag...\n",
       "1  train_00002.jpg      5  /run/media/viper/LSP/Dataset/RAF-DB/basic/Imag...\n",
       "2  train_00003.jpg      4  /run/media/viper/LSP/Dataset/RAF-DB/basic/Imag...\n",
       "3  train_00004.jpg      4  /run/media/viper/LSP/Dataset/RAF-DB/basic/Imag...\n",
       "4  train_00005.jpg      5  /run/media/viper/LSP/Dataset/RAF-DB/basic/Imag..."
      ]
     },
     "execution_count": 47,
     "metadata": {},
     "output_type": "execute_result"
    }
   ],
   "source": [
    "df.head()"
   ]
  },
  {
   "cell_type": "code",
   "execution_count": 48,
   "id": "e407ba4b-154c-4114-85f0-49a0e4cebc11",
   "metadata": {},
   "outputs": [],
   "source": [
    "a = cv2.imread(df.iloc[0].aligned_fr)"
   ]
  },
  {
   "cell_type": "code",
   "execution_count": 60,
   "id": "261c3f17-6c32-43f4-91ca-f39b0a5a471c",
   "metadata": {},
   "outputs": [],
   "source": []
  },
  {
   "cell_type": "code",
   "execution_count": 61,
   "id": "ae38a52e-d303-407c-b3ff-7a3ae7f270ee",
   "metadata": {},
   "outputs": [
    {
     "ename": "TypeError",
     "evalue": "sequence item 0: expected str instance, int found",
     "output_type": "error",
     "traceback": [
      "\u001b[0;31m---------------------------------------------------------------------------\u001b[0m",
      "\u001b[0;31mTypeError\u001b[0m                                 Traceback (most recent call last)",
      "Input \u001b[0;32mIn [61]\u001b[0m, in \u001b[0;36m<cell line: 1>\u001b[0;34m()\u001b[0m\n\u001b[0;32m----> 1\u001b[0m \u001b[38;5;124;43m\"\u001b[39;49m\u001b[38;5;124;43m,\u001b[39;49m\u001b[38;5;124;43m\"\u001b[39;49m\u001b[38;5;241;43m.\u001b[39;49m\u001b[43mjoin\u001b[49m\u001b[43m(\u001b[49m\u001b[43mv\u001b[49m\u001b[43m)\u001b[49m\n",
      "\u001b[0;31mTypeError\u001b[0m: sequence item 0: expected str instance, int found"
     ]
    }
   ],
   "source": []
  },
  {
   "cell_type": "code",
   "execution_count": 63,
   "id": "60872feb-d3c9-4569-b09d-582bd19a93ee",
   "metadata": {},
   "outputs": [
    {
     "data": {
      "text/plain": [
       "tuple"
      ]
     },
     "execution_count": 63,
     "metadata": {},
     "output_type": "execute_result"
    }
   ],
   "source": [
    "type(v)"
   ]
  },
  {
   "cell_type": "code",
   "execution_count": null,
   "id": "7ddada83-dfe2-44db-bca4-932310f6cd4d",
   "metadata": {},
   "outputs": [],
   "source": []
  }
 ],
 "metadata": {
  "kernelspec": {
   "display_name": "Python 3",
   "language": "python",
   "name": "python3"
  },
  "language_info": {
   "codemirror_mode": {
    "name": "ipython",
    "version": 3
   },
   "file_extension": ".py",
   "mimetype": "text/x-python",
   "name": "python",
   "nbconvert_exporter": "python",
   "pygments_lexer": "ipython3",
   "version": "3.9.7"
  }
 },
 "nbformat": 4,
 "nbformat_minor": 5
}
