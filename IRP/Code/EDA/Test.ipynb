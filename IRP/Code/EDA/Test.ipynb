{
 "cells": [
  {
   "cell_type": "code",
   "execution_count": 1,
   "id": "d4ef8bcd-0d0e-4ae7-93f1-c640816b2f8c",
   "metadata": {},
   "outputs": [],
   "source": [
    "import numpy as np\n",
    "import glob as glob\n",
    "from tqdm import tqdm"
   ]
  },
  {
   "cell_type": "code",
   "execution_count": 4,
   "id": "b5c195fe-5fc5-484f-b1c2-abbbb85f1116",
   "metadata": {},
   "outputs": [],
   "source": [
    "path = \"/home/viper/Documents/GitHub/EXP/ML-GCN/data/coco/coco_adj.pkl\"\n",
    "a = np.load(path, allow_pickle=True)"
   ]
  },
  {
   "cell_type": "code",
   "execution_count": 10,
   "id": "e9a8f33f-a733-4c97-8a46-2e26660319c1",
   "metadata": {},
   "outputs": [
    {
     "data": {
      "text/plain": [
       "(80,)"
      ]
     },
     "execution_count": 10,
     "metadata": {},
     "output_type": "execute_result"
    }
   ],
   "source": [
    "a[\"nums\"].shape"
   ]
  },
  {
   "cell_type": "code",
   "execution_count": null,
   "id": "9fc2e8fe-ebfc-4d4c-b055-ab1876eb0875",
   "metadata": {},
   "outputs": [],
   "source": []
  }
 ],
 "metadata": {
  "kernelspec": {
   "display_name": "Python 3",
   "language": "python",
   "name": "python3"
  },
  "language_info": {
   "codemirror_mode": {
    "name": "ipython",
    "version": 3
   },
   "file_extension": ".py",
   "mimetype": "text/x-python",
   "name": "python",
   "nbconvert_exporter": "python",
   "pygments_lexer": "ipython3",
   "version": "3.9.12"
  }
 },
 "nbformat": 4,
 "nbformat_minor": 5
}
