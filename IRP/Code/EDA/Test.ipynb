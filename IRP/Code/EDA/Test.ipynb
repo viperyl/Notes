{
 "cells": [
  {
   "cell_type": "code",
   "execution_count": 4,
   "id": "d4ef8bcd-0d0e-4ae7-93f1-c640816b2f8c",
   "metadata": {},
   "outputs": [],
   "source": [
    "import numpy as np\n",
    "import glob as glob\n",
    "from tqdm import tqdm"
   ]
  },
  {
   "cell_type": "code",
   "execution_count": 5,
   "id": "b5c195fe-5fc5-484f-b1c2-abbbb85f1116",
   "metadata": {},
   "outputs": [
    {
     "name": "stderr",
     "output_type": "stream",
     "text": [
      "100%|██████████| 9/9 [03:42<00:00, 24.75s/it]\n"
     ]
    }
   ],
   "source": [
    "for i in tqdm(range(9)):\n",
    "    x = np.load(\"/run/media/viper/LSP/Dataset/IRP_data/Affect/X_affectnet\" + str(i) + \".npy\")\n",
    "    y = np.load(\"/run/media/viper/LSP/Dataset/IRP_data/Affect/Y_affectnet\" + str(i) + \".npy\")\n",
    "    if len(x) != len(y):\n",
    "        print(i)"
   ]
  },
  {
   "cell_type": "code",
   "execution_count": null,
   "id": "e9a8f33f-a733-4c97-8a46-2e26660319c1",
   "metadata": {},
   "outputs": [],
   "source": []
  }
 ],
 "metadata": {
  "kernelspec": {
   "display_name": "Python 3",
   "language": "python",
   "name": "python3"
  },
  "language_info": {
   "codemirror_mode": {
    "name": "ipython",
    "version": 3
   },
   "file_extension": ".py",
   "mimetype": "text/x-python",
   "name": "python",
   "nbconvert_exporter": "python",
   "pygments_lexer": "ipython3",
   "version": "3.9.7"
  }
 },
 "nbformat": 4,
 "nbformat_minor": 5
}
