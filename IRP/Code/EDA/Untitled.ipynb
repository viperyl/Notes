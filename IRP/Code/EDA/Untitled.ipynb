{
 "cells": [
  {
   "cell_type": "code",
   "execution_count": 1,
   "id": "8b87575a-bf71-45cb-a13a-3d87f8812ef3",
   "metadata": {},
   "outputs": [],
   "source": [
    "import torch\n",
    "import torch.nn as nn\n",
    "import torchvision.models as models"
   ]
  },
  {
   "cell_type": "code",
   "execution_count": 2,
   "id": "eadf268e-fa56-44ab-a3aa-1addb857bdea",
   "metadata": {},
   "outputs": [],
   "source": [
    "class FDN(nn.Module):\n",
    "    def __init__(self, backbone, num_latent):\n",
    "        super(FDN, self).__init__()\n",
    "        self.backbone = backbone\n",
    "        self.num_latent = num_latent\n",
    "        self.linears = nn.ModuleList([nn.Linear(512, 128, bias=False) for i in range(num_latent)])\n",
    "        \n",
    "    def forward(self, x):\n",
    "        # out (1, 512)\n",
    "        x = self.backbone(x)\n",
    "        x = torch.squeeze(x)\n",
    "        print(x.shape)\n",
    "        # x = x.view(x.shape[0], 1, x.shape[1])\n",
    "        tmp = []\n",
    "        for i in range(self.num_latent):                                                     \n",
    "            tmp.append(torch.relu(self.linears[i](x)))\n",
    "        res = torch.cat(tmp, dim=1).view(-1, self.num_latent, 128)\n",
    "        return res"
   ]
  },
  {
   "cell_type": "code",
   "execution_count": 21,
   "id": "6cd60345-b50b-4b14-92c6-f4a9b100bd7b",
   "metadata": {},
   "outputs": [],
   "source": [
    "class Intra_RM(nn.Module):\n",
    "    def __init__(self, num_latent):\n",
    "        super(Intra_RM, self).__init__()\n",
    "        self.num_latent = num_latent\n",
    "        self.linears = nn.ModuleList([nn.Linear(128, 128, bias=False) for i in range(num_latent)])\n",
    "        \n",
    "    def forward(self, x):\n",
    "        res1 = []\n",
    "        for i in range(self.num_latent):\n",
    "            res1.append(torch.relu(self.linears[i](x)))\n",
    "        res2 = torch.cat(res1, dim=1).view(-1, self.num_latent, 128)\n",
    "        return res2\n",
    "            "
   ]
  },
  {
   "cell_type": "code",
   "execution_count": null,
   "id": "a2a56e0a-0407-45cb-92d0-5b731dfcd65e",
   "metadata": {},
   "outputs": [],
   "source": [
    "def forward(self, I):                                                                                                                                                                                                               \n",
    "  1 ▏   ▏   weights = []                                                                                                                                                                                                                    \n",
    "  2 ▏   ▏   res = []                                                                                                                                                                                                                        \n",
    "  3 ▏   ▏   for i in range(self.M):                                                                                                                                                                                                         \n",
    "  4 ▏   ▏   ▏   x = I[:, i, :]                                                                                                                                                                                                              \n",
    "  5 ▏   ▏   ▏   alpha = torch.sigmoid(self.linears[i](x))                                                                                                                                                                                   \n",
    "  6 ▏   ▏   ▏   importance = torch.norm(alpha, p=1, dim=-1, keepdim=True)                                                                                                                                                                   \n",
    "  7 ▏   ▏   ▏   temp = x * importance                                                                                                                                                                                                       \n",
    "  8 ▏   ▏   ▏   res.append(temp)                                                                                                                                                                                                            \n",
    "  9 ▏   ▏   ▏   weights.append(importance)                                                                                                                                                                                                  \n",
    " 10 ▏   ▏   res = torch.cat(res, dim=1).view((-1, self.M, 128))                                                                                                                                                                             \n",
    " 11 ▏   ▏   weights = torch.cat(weights, dim=1)                                                                                                                                                                                             \n",
    " 12 ▏   ▏   return res, weights "
   ]
  },
  {
   "cell_type": "code",
   "execution_count": 22,
   "id": "5ab80d1e-60c7-4cf8-93c1-12f1c463eb76",
   "metadata": {},
   "outputs": [],
   "source": [
    "model = models.resnet18(pretrained=True)\n",
    "new_model = torch.nn.Sequential(*(list(model.children())[:-1]))"
   ]
  },
  {
   "cell_type": "code",
   "execution_count": 23,
   "id": "44371039-c1a4-4daa-a30a-d57e12696391",
   "metadata": {},
   "outputs": [],
   "source": [
    "myFDRL = FDN(new_model, 10)"
   ]
  },
  {
   "cell_type": "code",
   "execution_count": 24,
   "id": "c7d58dd0-27d8-4af9-97d4-295d5129f5a0",
   "metadata": {},
   "outputs": [
    {
     "name": "stdout",
     "output_type": "stream",
     "text": [
      "torch.Size([2, 512])\n"
     ]
    },
    {
     "data": {
      "text/plain": [
       "torch.Size([2, 10, 128])"
      ]
     },
     "execution_count": 24,
     "metadata": {},
     "output_type": "execute_result"
    }
   ],
   "source": [
    "img = torch.rand(2, 3, 224, 224)\n",
    "res1 = myFDRL(img)\n",
    "res1.shape"
   ]
  },
  {
   "cell_type": "code",
   "execution_count": 25,
   "id": "a17c75e9-b1f0-406f-872a-bb24ef75739e",
   "metadata": {},
   "outputs": [],
   "source": [
    "myIntra = Intra_RM(10)"
   ]
  },
  {
   "cell_type": "code",
   "execution_count": 26,
   "id": "fa862152-4154-4c83-b648-26fc95b8f531",
   "metadata": {},
   "outputs": [
    {
     "data": {
      "text/plain": [
       "torch.Size([20, 10, 128])"
      ]
     },
     "execution_count": 26,
     "metadata": {},
     "output_type": "execute_result"
    }
   ],
   "source": [
    "res2 = myIntra(res1)\n",
    "res2.shape"
   ]
  },
  {
   "cell_type": "code",
   "execution_count": null,
   "id": "ad64d952-bb14-4210-8fdc-47a3982c0c4c",
   "metadata": {},
   "outputs": [],
   "source": []
  }
 ],
 "metadata": {
  "kernelspec": {
   "display_name": "Python 3",
   "language": "python",
   "name": "python3"
  },
  "language_info": {
   "codemirror_mode": {
    "name": "ipython",
    "version": 3
   },
   "file_extension": ".py",
   "mimetype": "text/x-python",
   "name": "python",
   "nbconvert_exporter": "python",
   "pygments_lexer": "ipython3",
   "version": "3.9.12"
  }
 },
 "nbformat": 4,
 "nbformat_minor": 5
}
