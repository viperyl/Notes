{
 "cells": [
  {
   "cell_type": "markdown",
   "id": "b6a229ba-7bed-459f-ae49-8418bd14299d",
   "metadata": {},
   "source": [
    "# Affect for RAF_DBimport numpy as np"
   ]
  },
  {
   "cell_type": "code",
   "execution_count": 1,
   "id": "413cb6f3-ea09-4ea9-afcc-e8080a2bf871",
   "metadata": {},
   "outputs": [],
   "source": [
    "import numpy as np\n",
    "import pandas as pd\n",
    "from tqdm import tqdm\n",
    "import dask.dataframe as dd\n",
    "from dask.multiprocessing import get\n",
    "import cv2\n",
    "from tqdm import tqdm\n",
    "\n",
    "import matplotlib.pyplot as plt\n",
    "\n",
    "tqdm.pandas()"
   ]
  },
  {
   "cell_type": "code",
   "execution_count": 2,
   "id": "eaff459f-e7e4-4d93-a120-bc5ded1cb580",
   "metadata": {},
   "outputs": [],
   "source": [
    "RAF_DB_label = [\"Surprise\", \"Fear\", \"Disgust\", \"Happiness\", \"Sadness\", \"Anger\", \"Neutral\"]\n",
    "Affect_label = [\"surprise\", \"fear\", \"disgust\", \"happy\", \"sad\", \"anger\", \"neutral\"]"
   ]
  },
  {
   "cell_type": "code",
   "execution_count": 8,
   "id": "668525fe-ba22-4cd1-b087-bd74dc3e77be",
   "metadata": {},
   "outputs": [
    {
     "data": {
      "text/html": [
       "<div>\n",
       "<style scoped>\n",
       "    .dataframe tbody tr th:only-of-type {\n",
       "        vertical-align: middle;\n",
       "    }\n",
       "\n",
       "    .dataframe tbody tr th {\n",
       "        vertical-align: top;\n",
       "    }\n",
       "\n",
       "    .dataframe thead th {\n",
       "        text-align: right;\n",
       "    }\n",
       "</style>\n",
       "<table border=\"1\" class=\"dataframe\">\n",
       "  <thead>\n",
       "    <tr style=\"text-align: right;\">\n",
       "      <th></th>\n",
       "      <th>pth</th>\n",
       "      <th>label</th>\n",
       "    </tr>\n",
       "  </thead>\n",
       "  <tbody>\n",
       "    <tr>\n",
       "      <th>0</th>\n",
       "      <td>anger/image0000006.jpg</td>\n",
       "      <td>surprise</td>\n",
       "    </tr>\n",
       "    <tr>\n",
       "      <th>1</th>\n",
       "      <td>anger/image0000007.jpg</td>\n",
       "      <td>anger</td>\n",
       "    </tr>\n",
       "    <tr>\n",
       "      <th>2</th>\n",
       "      <td>anger/image0000012.jpg</td>\n",
       "      <td>anger</td>\n",
       "    </tr>\n",
       "    <tr>\n",
       "      <th>3</th>\n",
       "      <td>anger/image0000035.jpg</td>\n",
       "      <td>fear</td>\n",
       "    </tr>\n",
       "    <tr>\n",
       "      <th>4</th>\n",
       "      <td>anger/image0000060.jpg</td>\n",
       "      <td>anger</td>\n",
       "    </tr>\n",
       "  </tbody>\n",
       "</table>\n",
       "</div>"
      ],
      "text/plain": [
       "                      pth     label\n",
       "0  anger/image0000006.jpg  surprise\n",
       "1  anger/image0000007.jpg     anger\n",
       "2  anger/image0000012.jpg     anger\n",
       "3  anger/image0000035.jpg      fear\n",
       "4  anger/image0000060.jpg     anger"
      ]
     },
     "execution_count": 8,
     "metadata": {},
     "output_type": "execute_result"
    }
   ],
   "source": [
    "label_path = \"/run/media/viper/LSP/Dataset/Affect/labels.csv\"\n",
    "df = pd.read_csv(label_path, sep=\",\")\n",
    "df.head()"
   ]
  },
  {
   "cell_type": "code",
   "execution_count": 9,
   "id": "1619e770-1e98-47ec-8d9f-23b909d7ea9f",
   "metadata": {},
   "outputs": [],
   "source": [
    "df = df.drop(df[df[\"label\"] == \"contempt\"].index)"
   ]
  },
  {
   "cell_type": "code",
   "execution_count": 10,
   "id": "681a0bcd-d792-4590-ae9b-bc21b0a3a52b",
   "metadata": {},
   "outputs": [],
   "source": [
    "df[\"file\"] = 0"
   ]
  },
  {
   "cell_type": "code",
   "execution_count": 11,
   "id": "d88aa531-25f8-4671-bbef-7020ea5e47fb",
   "metadata": {},
   "outputs": [
    {
     "name": "stderr",
     "output_type": "stream",
     "text": [
      "  0%|          | 0/3046 [00:00<?, ?it/s]<ipython-input-11-1d583e5752d4>:10: SettingWithCopyWarning: \n",
      "A value is trying to be set on a copy of a slice from a DataFrame\n",
      "\n",
      "See the caveats in the documentation: https://pandas.pydata.org/pandas-docs/stable/user_guide/indexing.html#returning-a-view-versus-a-copy\n",
      "  df[\"file\"].iloc[j] = i\n",
      "100%|██████████| 3046/3046 [03:27<00:00, 14.70it/s]\n",
      "100%|██████████| 3046/3046 [00:52<00:00, 57.89it/s]\n",
      "100%|██████████| 3046/3046 [01:07<00:00, 45.10it/s]\n",
      "100%|██████████| 3046/3046 [02:18<00:00, 22.02it/s]\n",
      "100%|██████████| 3046/3046 [00:50<00:00, 59.97it/s]\n",
      "100%|██████████| 3046/3046 [00:54<00:00, 55.78it/s]\n",
      "100%|██████████| 3046/3046 [01:11<00:00, 42.66it/s]\n",
      "100%|██████████| 3046/3046 [00:55<00:00, 55.29it/s]\n",
      "100%|██████████| 3046/3046 [04:19<00:00, 11.75it/s]\n"
     ]
    },
    {
     "ename": "IndexError",
     "evalue": "index 10 is out of bounds for axis 0 with size 10",
     "output_type": "error",
     "traceback": [
      "\u001b[0;31m---------------------------------------------------------------------------\u001b[0m",
      "\u001b[0;31mIndexError\u001b[0m                                Traceback (most recent call last)",
      "Input \u001b[0;32mIn [11]\u001b[0m, in \u001b[0;36m<cell line: 3>\u001b[0;34m()\u001b[0m\n\u001b[1;32m      2\u001b[0m se_index \u001b[38;5;241m=\u001b[39m np\u001b[38;5;241m.\u001b[39mlinspace(\u001b[38;5;241m0\u001b[39m, \u001b[38;5;28mlen\u001b[39m(df), chunksize)\u001b[38;5;241m.\u001b[39mastype(\u001b[38;5;28mint\u001b[39m)\n\u001b[1;32m      3\u001b[0m \u001b[38;5;28;01mfor\u001b[39;00m i \u001b[38;5;129;01min\u001b[39;00m \u001b[38;5;28mrange\u001b[39m(chunksize):\n\u001b[0;32m----> 4\u001b[0m     X_affectnet \u001b[38;5;241m=\u001b[39m np\u001b[38;5;241m.\u001b[39mzeros((\u001b[43mse_index\u001b[49m\u001b[43m[\u001b[49m\u001b[43mi\u001b[49m\u001b[38;5;241;43m+\u001b[39;49m\u001b[38;5;241;43m1\u001b[39;49m\u001b[43m]\u001b[49m\u001b[38;5;241m-\u001b[39mse_index[i], \u001b[38;5;241m224\u001b[39m, \u001b[38;5;241m224\u001b[39m, \u001b[38;5;241m3\u001b[39m))\n\u001b[1;32m      5\u001b[0m     \u001b[38;5;28;01mfor\u001b[39;00m j \u001b[38;5;129;01min\u001b[39;00m tqdm(\u001b[38;5;28mrange\u001b[39m(se_index[i], se_index[i\u001b[38;5;241m+\u001b[39m\u001b[38;5;241m1\u001b[39m])):\n\u001b[1;32m      6\u001b[0m         img \u001b[38;5;241m=\u001b[39m cv2\u001b[38;5;241m.\u001b[39mimread(\u001b[38;5;124m\"\u001b[39m\u001b[38;5;124m/run/media/viper/LSP/Dataset/Affect/\u001b[39m\u001b[38;5;124m\"\u001b[39m \u001b[38;5;241m+\u001b[39m df\u001b[38;5;241m.\u001b[39miloc[i][\u001b[38;5;124m\"\u001b[39m\u001b[38;5;124mpth\u001b[39m\u001b[38;5;124m\"\u001b[39m])\n",
      "\u001b[0;31mIndexError\u001b[0m: index 10 is out of bounds for axis 0 with size 10"
     ]
    }
   ],
   "source": [
    "chunksize = 10\n",
    "se_index = np.linspace(0, len(df), chunksize).astype(int)\n",
    "for i in range(chunksize):\n",
    "    X_affectnet = np.zeros((se_index[i+1]-se_index[i], 224, 224, 3))\n",
    "    for j in tqdm(range(se_index[i], se_index[i+1])):\n",
    "        img = cv2.imread(\"/run/media/viper/LSP/Dataset/Affect/\" + df.iloc[i][\"pth\"])\n",
    "        img = cv2.cvtColor(img, cv2.COLOR_BGR2RGB)\n",
    "        resized = cv2.resize(img, (224, 224), interpolation = cv2.INTER_AREA)\n",
    "        X_affectnet[j-se_index[i],:,:,:] = resized\n",
    "        df[\"file\"].iloc[j] = i\n",
    "    np.save(\"/run/media/viper/LSP/Dataset/IRP_data/Affect_7class/X_affectnet\"+ str(i) + \".npy\", X_affectnet, allow_pickle=True)"
   ]
  },
  {
   "cell_type": "code",
   "execution_count": 13,
   "id": "95f69c39-27f7-4855-9430-c6356eb0f653",
   "metadata": {},
   "outputs": [],
   "source": [
    "df = df.drop(df[df[\"file\"] == 0].index)"
   ]
  },
  {
   "cell_type": "code",
   "execution_count": 15,
   "id": "d40a9393-862c-41c7-8b4e-1956e21dc415",
   "metadata": {},
   "outputs": [],
   "source": [
    "df.to_csv(\"/run/media/viper/LSP/Dataset/IRP_data/Affect_7class/Affect7.csv\")"
   ]
  },
  {
   "cell_type": "code",
   "execution_count": null,
   "id": "bb43eb40-eb2f-4fb6-afef-ddd8ecb5d3b9",
   "metadata": {},
   "outputs": [],
   "source": []
  }
 ],
 "metadata": {
  "kernelspec": {
   "display_name": "Python 3",
   "language": "python",
   "name": "python3"
  },
  "language_info": {
   "codemirror_mode": {
    "name": "ipython",
    "version": 3
   },
   "file_extension": ".py",
   "mimetype": "text/x-python",
   "name": "python",
   "nbconvert_exporter": "python",
   "pygments_lexer": "ipython3",
   "version": "3.9.7"
  }
 },
 "nbformat": 4,
 "nbformat_minor": 5
}
