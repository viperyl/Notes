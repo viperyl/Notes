{
 "cells": [
  {
   "cell_type": "code",
   "execution_count": 7,
   "id": "93b2748e-7d59-4962-a2c4-9dc35ca8bf24",
   "metadata": {},
   "outputs": [],
   "source": [
    "import numpy as np\n",
    "from sklearn.model_selection import train_test_split"
   ]
  },
  {
   "cell_type": "markdown",
   "id": "a78ae22c-5e3a-44f3-adb3-09f98197b5d6",
   "metadata": {},
   "source": [
    "# RAF DB Dataset\n",
    "\n",
    "## Status: Done"
   ]
  },
  {
   "cell_type": "code",
   "execution_count": 8,
   "id": "f7116631-6922-40ce-9fc1-a44640398f5a",
   "metadata": {},
   "outputs": [],
   "source": [
    "X = np.load(\"/run/media/viper/LSP/Dataset/RAF-DB/basic/numpy/X_aligned.npy\")\n",
    "Y = np.load(\"/run/media/viper/LSP/Dataset/RAF-DB/basic/numpy/Y_aligned.npy\")"
   ]
  },
  {
   "cell_type": "code",
   "execution_count": 9,
   "id": "903964f1-a9c0-4738-b911-9385da5099c7",
   "metadata": {},
   "outputs": [],
   "source": [
    "X_train, X_test, y_train, y_test = train_test_split(X, Y, test_size=0.2, random_state=42)\n",
    "X_test, X_val, y_test, y_val = train_test_split(X_test, y_test, test_size=0.5, random_state=42)"
   ]
  },
  {
   "cell_type": "code",
   "execution_count": 10,
   "id": "e0ed9193-fef7-4de2-a1ba-8b7571cea192",
   "metadata": {},
   "outputs": [
    {
     "name": "stdout",
     "output_type": "stream",
     "text": [
      "(12271, 7)\n",
      "(1534, 7)\n",
      "(1534, 7)\n"
     ]
    }
   ],
   "source": [
    "print(y_train.shape)\n",
    "print(y_test.shape)\n",
    "print(y_val.shape)"
   ]
  },
  {
   "cell_type": "code",
   "execution_count": 12,
   "id": "6a38dca7-5257-438f-8ce6-dfe87799700c",
   "metadata": {},
   "outputs": [
    {
     "data": {
      "text/plain": [
       "array([1294,  286,  690, 4782, 1991,  698, 2530], dtype=uint64)"
      ]
     },
     "execution_count": 12,
     "metadata": {},
     "output_type": "execute_result"
    }
   ],
   "source": [
    "np.sum(y_train, axis=0)"
   ]
  },
  {
   "cell_type": "code",
   "execution_count": 13,
   "id": "55a437f8-9e34-41db-a680-312402dcedbe",
   "metadata": {},
   "outputs": [
    {
     "data": {
      "text/plain": [
       "array([183,  33,  90, 576, 242,  87, 323], dtype=uint64)"
      ]
     },
     "execution_count": 13,
     "metadata": {},
     "output_type": "execute_result"
    }
   ],
   "source": [
    "np.sum(y_test, axis=0)"
   ]
  },
  {
   "cell_type": "code",
   "execution_count": 14,
   "id": "e4ba645f-47b3-41a7-a368-bd28ede480b5",
   "metadata": {},
   "outputs": [
    {
     "data": {
      "text/plain": [
       "array([142,  36,  97, 599, 227,  82, 351], dtype=uint64)"
      ]
     },
     "execution_count": 14,
     "metadata": {},
     "output_type": "execute_result"
    }
   ],
   "source": [
    "np.sum(y_val, axis=0)"
   ]
  },
  {
   "cell_type": "code",
   "execution_count": 16,
   "id": "7a145ea6-51eb-4087-8db2-e34e14b8a9bb",
   "metadata": {},
   "outputs": [],
   "source": [
    "np.save(\"/run/media/viper/LSP/Dataset/RAF-DB/basic/shuffled/X_train_shuffled.npy\", X_train, allow_pickle=True)\n",
    "np.save(\"/run/media/viper/LSP/Dataset/RAF-DB/basic/shuffled/X_test_shuffled.npy\", X_test, allow_pickle=True)\n",
    "np.save(\"/run/media/viper/LSP/Dataset/RAF-DB/basic/shuffled/X_val_shuffled.npy\", X_val, allow_pickle=True)\n",
    "np.save(\"/run/media/viper/LSP/Dataset/RAF-DB/basic/shuffled/Y_train_shuffled.npy\", y_train, allow_pickle=True)\n",
    "np.save(\"/run/media/viper/LSP/Dataset/RAF-DB/basic/shuffled/Y_test_shuffled.npy\", y_test, allow_pickle=True)\n",
    "np.save(\"/run/media/viper/LSP/Dataset/RAF-DB/basic/shuffled/Y_val_shuffled.npy\", y_val, allow_pickle=True)"
   ]
  },
  {
   "cell_type": "code",
   "execution_count": null,
   "id": "a271d377-20cf-4b6c-acb3-5b128c47e835",
   "metadata": {},
   "outputs": [],
   "source": []
  }
 ],
 "metadata": {
  "kernelspec": {
   "display_name": "Python 3",
   "language": "python",
   "name": "python3"
  },
  "language_info": {
   "codemirror_mode": {
    "name": "ipython",
    "version": 3
   },
   "file_extension": ".py",
   "mimetype": "text/x-python",
   "name": "python",
   "nbconvert_exporter": "python",
   "pygments_lexer": "ipython3",
   "version": "3.9.7"
  }
 },
 "nbformat": 4,
 "nbformat_minor": 5
}
