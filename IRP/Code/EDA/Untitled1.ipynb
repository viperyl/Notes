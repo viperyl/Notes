{
 "cells": [
  {
   "cell_type": "code",
   "execution_count": 1,
   "id": "92d5774d-0ede-4201-9ebd-1e350d092986",
   "metadata": {},
   "outputs": [],
   "source": [
    "import torch"
   ]
  },
  {
   "cell_type": "code",
   "execution_count": 3,
   "id": "18b7e561-b854-4b0f-9532-763af6a49b3a",
   "metadata": {},
   "outputs": [
    {
     "data": {
      "text/plain": [
       "tensor([[0.5016, 0.7027, 0.2542, 0.2365, 0.6479, 0.3096, 0.2230],\n",
       "        [0.8977, 0.9135, 0.5876, 0.7326, 0.6935, 0.2132, 0.7078],\n",
       "        [0.8794, 0.8340, 0.7807, 0.9565, 0.7590, 0.2468, 0.9988],\n",
       "        [0.3965, 0.9190, 0.2976, 0.5702, 0.2690, 0.3867, 0.1107],\n",
       "        [0.6170, 0.3694, 0.4481, 0.1787, 0.8853, 0.4054, 0.0816],\n",
       "        [0.6692, 0.4387, 0.5855, 0.1227, 0.0805, 0.7625, 0.7805],\n",
       "        [0.3787, 0.7994, 0.8964, 0.5810, 0.5757, 0.3995, 0.5975],\n",
       "        [0.2325, 0.1009, 0.1804, 0.8361, 0.3628, 0.5039, 0.8535],\n",
       "        [0.4450, 0.9370, 0.5283, 0.6670, 0.5601, 0.9910, 0.4048],\n",
       "        [0.2481, 0.6923, 0.5453, 0.1777, 0.7386, 0.7889, 0.4314]])"
      ]
     },
     "execution_count": 3,
     "metadata": {},
     "output_type": "execute_result"
    }
   ],
   "source": [
    "data = torch.rand(10, 7)\n",
    "data"
   ]
  },
  {
   "cell_type": "code",
   "execution_count": 4,
   "id": "f23ccf82-dc40-43c8-a766-18c3403c71fa",
   "metadata": {},
   "outputs": [
    {
     "data": {
      "text/plain": [
       "tensor([1, 1, 6, 1, 4, 6, 2, 6, 5, 5])"
      ]
     },
     "execution_count": 4,
     "metadata": {},
     "output_type": "execute_result"
    }
   ],
   "source": [
    "v = data.argmax(dim=1)\n",
    "v"
   ]
  },
  {
   "cell_type": "code",
   "execution_count": 6,
   "id": "3b5be961-ed6e-42d6-a115-2a0371695e7b",
   "metadata": {},
   "outputs": [
    {
     "data": {
      "text/plain": [
       "tensor([[0., 1., 0., 0., 0., 0., 0.],\n",
       "        [0., 1., 0., 0., 0., 0., 0.],\n",
       "        [0., 0., 0., 0., 0., 0., 1.],\n",
       "        [0., 1., 0., 0., 0., 0., 0.],\n",
       "        [0., 0., 0., 0., 1., 0., 0.],\n",
       "        [0., 0., 0., 0., 0., 0., 1.],\n",
       "        [0., 0., 1., 0., 0., 0., 0.],\n",
       "        [0., 0., 0., 0., 0., 0., 1.],\n",
       "        [0., 0., 0., 0., 0., 1., 0.],\n",
       "        [0., 0., 0., 0., 0., 1., 0.]])"
      ]
     },
     "execution_count": 6,
     "metadata": {},
     "output_type": "execute_result"
    }
   ],
   "source": [
    "torch.zeros(data.shape).scatter(1, v.unsqueeze (1), 1.0)"
   ]
  },
  {
   "cell_type": "code",
   "execution_count": null,
   "id": "d5543204-498f-41c1-842b-a2e6f1ed2ae2",
   "metadata": {},
   "outputs": [],
   "source": []
  }
 ],
 "metadata": {
  "kernelspec": {
   "display_name": "Python 3",
   "language": "python",
   "name": "python3"
  },
  "language_info": {
   "codemirror_mode": {
    "name": "ipython",
    "version": 3
   },
   "file_extension": ".py",
   "mimetype": "text/x-python",
   "name": "python",
   "nbconvert_exporter": "python",
   "pygments_lexer": "ipython3",
   "version": "3.9.7"
  }
 },
 "nbformat": 4,
 "nbformat_minor": 5
}
