{
 "cells": [
  {
   "cell_type": "code",
   "execution_count": 1,
   "id": "9a505cad-ca69-489e-96b0-dc54d3ec0d83",
   "metadata": {},
   "outputs": [],
   "source": [
    "import os\n",
    "import numpy as np\n",
    "import seaborn as sns\n",
    "import pandas as pd\n",
    "import matplotlib.pyplot as plt\n",
    "\n",
    "import torch\n",
    "from torch import nn\n",
    "import torchvision.models as models"
   ]
  },
  {
   "cell_type": "code",
   "execution_count": 2,
   "id": "545b854f-2649-4ad9-9044-4eafb06ed808",
   "metadata": {},
   "outputs": [],
   "source": [
    "def gen_A(num_classes, t, adj_file):\n",
    "    _adj = np.identity(num_classes, np.int32)\n",
    "    return _adj"
   ]
  },
  {
   "cell_type": "code",
   "execution_count": 3,
   "id": "b62b79b5-7fd7-461a-a1d0-96bf44e8b68a",
   "metadata": {},
   "outputs": [],
   "source": [
    "def gen_adj(A):\n",
    "    D = torch.pow(A.sum(1).float(), -0.5)\n",
    "    D = torch.diag(D)\n",
    "    adj = torch.matmul(torch.matmul(A, D).t(), D)\n",
    "    return adj"
   ]
  },
  {
   "cell_type": "code",
   "execution_count": 4,
   "id": "939c2a4d-3856-44b3-8a4d-5cb37205771a",
   "metadata": {},
   "outputs": [],
   "source": [
    "class GraphConvolution(nn.Module):\n",
    "    def __init__(self, in_features, out_features, bias=False):\n",
    "        super(GraphConvolution, self).__init__()\n",
    "        self.in_feature = in_features\n",
    "        self.out_features = out_features\n",
    "        self.weight = nn.Parameter(torch.Tensor(in_features, out_features))\n",
    "        if bias:\n",
    "            self.bias = nn.Parameter(torch.Tensor(1, 1, out_features))\n",
    "        else:\n",
    "            self.register_parameter(\"bias\", None)\n",
    "    \n",
    "    def forward(self, x, adj):\n",
    "        support = torch.matmul(x, self.weight)\n",
    "        output = torch.matmul(adj, support)\n",
    "        if self.bias is not None:\n",
    "            return output + self.bias\n",
    "        else:\n",
    "            return output"
   ]
  },
  {
   "cell_type": "code",
   "execution_count": 5,
   "id": "0638e4f9-14c5-41e0-a5c0-409e2e018e35",
   "metadata": {},
   "outputs": [],
   "source": [
    "class resnet18_gcn(nn.Module):\n",
    "    def __init__(self, model, num_classes, in_channels=300, t=0, adj_file=None):\n",
    "        super(resnet18_gcn, self).__init__()\n",
    "        self.cnn = model\n",
    "        self.num_classes = num_classes\n",
    "        self.t = t\n",
    "        self.adj_file = adj_file\n",
    "        self.pooling = nn.MaxPool2d(7, 7)\n",
    "        self.gc1 = GraphConvolution(in_channels, 1024)\n",
    "        self.gc2 = GraphConvolution(1024, 2048)\n",
    "        self.relu = nn.LeakyReLU(0.2)\n",
    "        \n",
    "        _adj = gen_A(num_classes, t, adj_file)\n",
    "        self.A = nn.Parameter(torch.from_numpy(_adj).float())\n",
    "        \n",
    "        self.image_normalization_mean = [0.485, 0.456, 0.406]\n",
    "        self.image_normalization_std = [0.229, 0.224, 0.225]\n",
    "        \n",
    "    def forward(self, feature, inp):\n",
    "        features = self.cnn(feature)\n",
    "        features = self.pooling(features)\n",
    "        features = features.view(features.size(0), -1)\n",
    "        \n",
    "        adj = gen_adj(self.A).detach()\n",
    "        x = self.gc1(inp, adj)\n",
    "        x = self.relu(x)\n",
    "        x = self.gc2(x, adj)\n",
    "        \n",
    "        x = x.transpose(0, 1)\n",
    "        x = torch.matmul(features, x)\n",
    "        return x\n",
    "    \n",
    "    def get_config_optim(self, lr, lrp):\n",
    "        return [\n",
    "                {\"params\": self.features.parameters(), \"lr\": lr * lrp},\n",
    "                {\"params\": self.gc1.parameters(),      \"lr\": lr},\n",
    "                {\"params\": self.gc2.parameters(),      \"lr\": lr}\n",
    "        ]"
   ]
  },
  {
   "cell_type": "code",
   "execution_count": 6,
   "id": "f1e96b62-c0a3-4597-a110-b9981c7e1206",
   "metadata": {},
   "outputs": [],
   "source": [
    "def get_resnet18_sp(num_classes, t, pretrained=False, adj_file=None, in_channels=300):\n",
    "    model = models.resnet18(pretrained=pretrained)\n",
    "    new_model = torch.nn.Sequential(*(list(model.children())[:-2]))\n",
    "    return resnet18_gcn(new_model, num_classes, t=t, adj_file=adj_file, in_channels=in_channels)"
   ]
  },
  {
   "cell_type": "code",
   "execution_count": 7,
   "id": "8dc5c160-28ff-4051-ac30-1a4b27a8cd7a",
   "metadata": {},
   "outputs": [],
   "source": [
    "model = models.resnet18(pretrained=True)\n",
    "new_model = torch.nn.Sequential(*(list(model.children())[:-2]))"
   ]
  },
  {
   "cell_type": "code",
   "execution_count": 8,
   "id": "4f769562-ba3d-42fa-9943-1a3aa6993dac",
   "metadata": {},
   "outputs": [],
   "source": [
    "cnn = new_model\n",
    "num_classes = 7\n",
    "t = 7\n",
    "adj_file = \"/home/viper/Documents/GitHub/Notes/IRP/Code/wb/RAF_DB_glove_word2vec.npy\"\n",
    "pooling = nn.MaxPool2d(7, 7)\n",
    "gc1 = GraphConvolution(300, 1024)\n",
    "gc2 = GraphConvolution(1024, 512)\n",
    "relu = nn.LeakyReLU(0.2)\n",
    "_adj = gen_A(num_classes, t, adj_file)\n",
    "A = nn.Parameter(torch.from_numpy(_adj).float())"
   ]
  },
  {
   "cell_type": "code",
   "execution_count": 9,
   "id": "0bb73f3b-9007-46fd-9b6f-62c1c7cb759b",
   "metadata": {},
   "outputs": [],
   "source": [
    "img = torch.rand(1, 3, 224, 224)"
   ]
  },
  {
   "cell_type": "code",
   "execution_count": 10,
   "id": "3435fcb1-5403-46be-af1d-32edbbda4a0a",
   "metadata": {},
   "outputs": [
    {
     "data": {
      "text/plain": [
       "torch.Size([1, 512, 7, 7])"
      ]
     },
     "execution_count": 10,
     "metadata": {},
     "output_type": "execute_result"
    }
   ],
   "source": [
    "features = cnn(img)\n",
    "features.shape"
   ]
  },
  {
   "cell_type": "code",
   "execution_count": 11,
   "id": "55e50c74-6acc-4424-8f1d-4ae49ad8b97c",
   "metadata": {},
   "outputs": [
    {
     "data": {
      "text/plain": [
       "torch.Size([1, 512, 1, 1])"
      ]
     },
     "execution_count": 11,
     "metadata": {},
     "output_type": "execute_result"
    }
   ],
   "source": [
    "features = pooling(features)\n",
    "features.shape"
   ]
  },
  {
   "cell_type": "code",
   "execution_count": 12,
   "id": "7c5d9631-f43e-4fb0-b381-692648a41579",
   "metadata": {},
   "outputs": [
    {
     "data": {
      "text/plain": [
       "torch.Size([1, 512])"
      ]
     },
     "execution_count": 12,
     "metadata": {},
     "output_type": "execute_result"
    }
   ],
   "source": [
    "features = features.view(features.size(0), -1)\n",
    "features.shape"
   ]
  },
  {
   "cell_type": "code",
   "execution_count": 13,
   "id": "36ef2658-6aae-4cb0-b359-8693ae5631af",
   "metadata": {},
   "outputs": [
    {
     "data": {
      "text/plain": [
       "torch.Size([7, 7])"
      ]
     },
     "execution_count": 13,
     "metadata": {},
     "output_type": "execute_result"
    }
   ],
   "source": [
    "adj = gen_adj(A).detach()\n",
    "adj.shape"
   ]
  },
  {
   "cell_type": "code",
   "execution_count": 14,
   "id": "91fda447-a8a0-4a65-8f48-2bb54a455ed4",
   "metadata": {},
   "outputs": [],
   "source": [
    "inp = torch.rand(7,300)"
   ]
  },
  {
   "cell_type": "code",
   "execution_count": 15,
   "id": "9cc6f054-fb71-47c4-8086-23ccc55bbd38",
   "metadata": {},
   "outputs": [
    {
     "data": {
      "text/plain": [
       "torch.Size([7, 1024])"
      ]
     },
     "execution_count": 15,
     "metadata": {},
     "output_type": "execute_result"
    }
   ],
   "source": [
    "x  = gc1(inp, adj)\n",
    "x.shape"
   ]
  },
  {
   "cell_type": "code",
   "execution_count": 16,
   "id": "5a91b27f-9027-4da0-bb85-451598d93dc6",
   "metadata": {},
   "outputs": [
    {
     "data": {
      "text/plain": [
       "torch.Size([7, 1024])"
      ]
     },
     "execution_count": 16,
     "metadata": {},
     "output_type": "execute_result"
    }
   ],
   "source": [
    "x = relu(x)\n",
    "x.shape"
   ]
  },
  {
   "cell_type": "code",
   "execution_count": 17,
   "id": "834c2347-9063-4451-b220-2be86046e530",
   "metadata": {},
   "outputs": [
    {
     "data": {
      "text/plain": [
       "torch.Size([7, 512])"
      ]
     },
     "execution_count": 17,
     "metadata": {},
     "output_type": "execute_result"
    }
   ],
   "source": [
    "x = gc2(x, adj)\n",
    "x.shape"
   ]
  },
  {
   "cell_type": "code",
   "execution_count": 18,
   "id": "45778e9e-2246-4f7b-a05f-3d4f4669b2df",
   "metadata": {},
   "outputs": [
    {
     "data": {
      "text/plain": [
       "torch.Size([512, 7])"
      ]
     },
     "execution_count": 18,
     "metadata": {},
     "output_type": "execute_result"
    }
   ],
   "source": [
    "x = x.transpose(0, 1)\n",
    "x.shape"
   ]
  },
  {
   "cell_type": "code",
   "execution_count": 19,
   "id": "97150a33-8d17-4026-9ef4-9dd7aa37dfc9",
   "metadata": {},
   "outputs": [
    {
     "data": {
      "text/plain": [
       "torch.Size([1, 7])"
      ]
     },
     "execution_count": 19,
     "metadata": {},
     "output_type": "execute_result"
    }
   ],
   "source": [
    "x = torch.matmul(features, x)\n",
    "x.shape"
   ]
  },
  {
   "cell_type": "code",
   "execution_count": 21,
   "id": "dfc3c179-7000-476c-85ac-4f07a90a92cb",
   "metadata": {},
   "outputs": [],
   "source": [
    "v = np.load(\"/home/viper/Documents/GitHub/EXP/ML-GCN/data/coco/coco_adj.pkl\", allow_pickle=True)"
   ]
  },
  {
   "cell_type": "code",
   "execution_count": 22,
   "id": "5351aab1-9c85-43c5-a24a-facf32ed6739",
   "metadata": {},
   "outputs": [
    {
     "data": {
      "text/plain": [
       "{'nums': array([ 2243,  1171,  3924,  1618,  1804,  1884,   668,  2539,  3844,\n",
       "         2287,  2241,  2098,  3734,  5968,  5028,  1340,  2791,  2080,\n",
       "         8606,  1186,  2818,  3322,  8950,  3159,  3170,  1389,  6518,\n",
       "         8378,  3041,  1062,  1518,  1205,  2537,  1511,  1798,   128,\n",
       "         4861,  2068,   821,  1471,  1625,  3097,  2475,  1089,  2442,\n",
       "         1290,  1216,  2003,   481, 45174,  2202,  3084,  1671,  2180,\n",
       "         1645,   673,  1105,  3291,  2511,  2209,  1170,  2493,  2986,\n",
       "         1214,  1631,  2343,  1510,  2368,  2667,   151,  2317,   700,\n",
       "         2893,  2464,  4321,  3191,  2749,  2530,  1771,  1324]),\n",
       " 'adj': array([[  0,   0,  46, ...,   0,   0,   0],\n",
       "        [  0,   0,  20, ...,  49,  45,   0],\n",
       "        [ 46,  20,   0, ...,  42,  35,   1],\n",
       "        ...,\n",
       "        [  0,  49,  42, ...,   0, 197,   1],\n",
       "        [  0,  45,  35, ..., 197,   0,   0],\n",
       "        [  0,   0,   1, ...,   1,   0,   0]])}"
      ]
     },
     "execution_count": 22,
     "metadata": {},
     "output_type": "execute_result"
    }
   ],
   "source": [
    "v"
   ]
  }
 ],
 "metadata": {
  "kernelspec": {
   "display_name": "Python 3",
   "language": "python",
   "name": "python3"
  },
  "language_info": {
   "codemirror_mode": {
    "name": "ipython",
    "version": 3
   },
   "file_extension": ".py",
   "mimetype": "text/x-python",
   "name": "python",
   "nbconvert_exporter": "python",
   "pygments_lexer": "ipython3",
   "version": "3.9.12"
  }
 },
 "nbformat": 4,
 "nbformat_minor": 5
}
