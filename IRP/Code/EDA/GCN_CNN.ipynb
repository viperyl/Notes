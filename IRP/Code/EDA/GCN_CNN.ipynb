{
 "cells": [
  {
   "cell_type": "code",
   "execution_count": 1,
   "id": "9a505cad-ca69-489e-96b0-dc54d3ec0d83",
   "metadata": {},
   "outputs": [],
   "source": [
    "import os\n",
    "import numpy as np\n",
    "import seaborn as sns\n",
    "import pandas as pd\n",
    "import matplotlib.pyplot as plt\n",
    "\n",
    "import torch\n",
    "from torch import nn\n",
    "import torchvision.models as models"
   ]
  },
  {
   "cell_type": "code",
   "execution_count": 2,
   "id": "545b854f-2649-4ad9-9044-4eafb06ed808",
   "metadata": {},
   "outputs": [],
   "source": [
    "def gen_A(num_classes, t, adj_file):\n",
    "    _adj = np.identity(num_classes, np.int32)\n",
    "    return _adj"
   ]
  },
  {
   "cell_type": "code",
   "execution_count": 10,
   "id": "b62b79b5-7fd7-461a-a1d0-96bf44e8b68a",
   "metadata": {},
   "outputs": [],
   "source": [
    "def gen_adj(A):\n",
    "    D = torch.pow(A.sum(1).float(), -0.5)\n",
    "    D = torch.diag(D)\n",
    "    adj = torch.matmul(torch.matmul(A, D).t(), D)\n",
    "    return adj"
   ]
  },
  {
   "cell_type": "code",
   "execution_count": 4,
   "id": "939c2a4d-3856-44b3-8a4d-5cb37205771a",
   "metadata": {},
   "outputs": [],
   "source": [
    "class GraphConvolution(nn.Module):\n",
    "    def __init__(self, in_features, out_features, bias=False):\n",
    "        super(GraphConvolution, self).__init__()\n",
    "        self.in_feature = in_features\n",
    "        self.out_features = out_features\n",
    "        self.weight = nn.Parameter(torch.Tensor(in_features, out_features))\n",
    "        if bias:\n",
    "            self.bias = nn.Parameter(torch.Tensor(1, 1, out_features))\n",
    "        else:\n",
    "            self.register_parameter(\"bias\", None)\n",
    "    \n",
    "    def forward(self, x, adj):\n",
    "        support = torch.matmul(x, self.weight)\n",
    "        output = torch.matmul(adj, support)\n",
    "        if self.bias is not None:\n",
    "            return output + self.bias\n",
    "        else:\n",
    "            return output"
   ]
  },
  {
   "cell_type": "code",
   "execution_count": 5,
   "id": "0638e4f9-14c5-41e0-a5c0-409e2e018e35",
   "metadata": {},
   "outputs": [],
   "source": [
    "class resnet18_gcn(nn.Module):\n",
    "    def __init__(self, model, num_classes, in_channels=300, t=0, adj_file=None):\n",
    "        super(resnet18_gcn, self).__init__()\n",
    "        self.cnn = model\n",
    "        self.num_classes = num_classes\n",
    "        self.t = t\n",
    "        self.adj_file = adj_file\n",
    "        self.pooling = nn.MaxPool2d(7, 7)\n",
    "        self.gc1 = GraphConvolution(in_channels, 1024)\n",
    "        self.gc2 = GraphConvolution(1024, 2048)\n",
    "        self.relu = nn.LeakyReLU(0.2)\n",
    "        \n",
    "        _adj = gen_A(num_classes, t, adj_file)\n",
    "        self.A = nn.Parameter(torch.from_numpy(_adj).float())\n",
    "        \n",
    "        self.image_normalization_mean = [0.485, 0.456, 0.406]\n",
    "        self.image_normalization_std = [0.229, 0.224, 0.225]\n",
    "        \n",
    "    def forward(self, feature, inp):\n",
    "        features = self.cnn(feature)\n",
    "        features = self.pooling(features)\n",
    "        features = features.view(features.size(0), -1)\n",
    "        \n",
    "        \n",
    "        inp = inp[0]\n",
    "        adj = gen_adj(self.A).detach()\n",
    "        x = self.gc1(inp, adj)\n",
    "        x = self.relu(x)\n",
    "        x = self.gc2(x, adj)\n",
    "        \n",
    "        x = x.tranpose(0, 1)\n",
    "        x = torch.matmul(feature, x)\n",
    "        return x\n",
    "    \n",
    "    def get_config_optim(self, lr, lrp):\n",
    "        return [\n",
    "                {\"params\": self.features.parameters(), \"lr\": lr * lrp},\n",
    "                {\"params\": self.gc1.parameters(),      \"lr\": lr},\n",
    "                {\"params\": self.gc2.parameters(),      \"lr\": lr}\n",
    "        ]"
   ]
  },
  {
   "cell_type": "code",
   "execution_count": 6,
   "id": "f1e96b62-c0a3-4597-a110-b9981c7e1206",
   "metadata": {},
   "outputs": [],
   "source": [
    "def get_resnet18_sp(num_classes, t, pretrained=False, adj_file=None, in_channels=300):\n",
    "    model = models.resnet18(pretrained=pretrained)\n",
    "    new_model = torch.nn.Sequential(*(list(model.children())[:-2]))\n",
    "    return resnet18_gcn(new_model, num_classes, t=t, adj_file=adj_file, in_channels=in_channels)"
   ]
  },
  {
   "cell_type": "code",
   "execution_count": 7,
   "id": "8dc5c160-28ff-4051-ac30-1a4b27a8cd7a",
   "metadata": {},
   "outputs": [],
   "source": [
    "model = get_resnet18_sp(num_classes=7, t=0.4, pretrained=True, adj_file=None, in_channels=300)"
   ]
  },
  {
   "cell_type": "code",
   "execution_count": 8,
   "id": "774bc77d-8040-491a-9c8c-b5ba8a30904b",
   "metadata": {},
   "outputs": [],
   "source": [
    "feature = torch.rand(1, 3, 224, 224)\n",
    "inp = np.load(\"/home/viper/Documents/Notes/IRP/Code/wb/RAF_DB_glove_word2vec.npy\")"
   ]
  },
  {
   "cell_type": "code",
   "execution_count": 12,
   "id": "779552df-68b4-4d7a-8db3-bc5f12b07f73",
   "metadata": {},
   "outputs": [],
   "source": [
    "inp = torch.Tensor(inp)"
   ]
  },
  {
   "cell_type": "code",
   "execution_count": 13,
   "id": "7e5554f2-9e15-4e0d-b8f5-714c0ce6a862",
   "metadata": {},
   "outputs": [
    {
     "ename": "RuntimeError",
     "evalue": "size mismatch, got 7, 7x7,1024",
     "output_type": "error",
     "traceback": [
      "\u001b[0;31m---------------------------------------------------------------------------\u001b[0m",
      "\u001b[0;31mRuntimeError\u001b[0m                              Traceback (most recent call last)",
      "Input \u001b[0;32mIn [13]\u001b[0m, in \u001b[0;36m<cell line: 1>\u001b[0;34m()\u001b[0m\n\u001b[0;32m----> 1\u001b[0m res \u001b[38;5;241m=\u001b[39m \u001b[43mmodel\u001b[49m\u001b[43m(\u001b[49m\u001b[43mfeature\u001b[49m\u001b[43m,\u001b[49m\u001b[43m \u001b[49m\u001b[43minp\u001b[49m\u001b[43m)\u001b[49m\n",
      "File \u001b[0;32m/home/miniconda3/lib/python3.9/site-packages/torch/nn/modules/module.py:1102\u001b[0m, in \u001b[0;36mModule._call_impl\u001b[0;34m(self, *input, **kwargs)\u001b[0m\n\u001b[1;32m   1098\u001b[0m \u001b[38;5;66;03m# If we don't have any hooks, we want to skip the rest of the logic in\u001b[39;00m\n\u001b[1;32m   1099\u001b[0m \u001b[38;5;66;03m# this function, and just call forward.\u001b[39;00m\n\u001b[1;32m   1100\u001b[0m \u001b[38;5;28;01mif\u001b[39;00m \u001b[38;5;129;01mnot\u001b[39;00m (\u001b[38;5;28mself\u001b[39m\u001b[38;5;241m.\u001b[39m_backward_hooks \u001b[38;5;129;01mor\u001b[39;00m \u001b[38;5;28mself\u001b[39m\u001b[38;5;241m.\u001b[39m_forward_hooks \u001b[38;5;129;01mor\u001b[39;00m \u001b[38;5;28mself\u001b[39m\u001b[38;5;241m.\u001b[39m_forward_pre_hooks \u001b[38;5;129;01mor\u001b[39;00m _global_backward_hooks\n\u001b[1;32m   1101\u001b[0m         \u001b[38;5;129;01mor\u001b[39;00m _global_forward_hooks \u001b[38;5;129;01mor\u001b[39;00m _global_forward_pre_hooks):\n\u001b[0;32m-> 1102\u001b[0m     \u001b[38;5;28;01mreturn\u001b[39;00m \u001b[43mforward_call\u001b[49m\u001b[43m(\u001b[49m\u001b[38;5;241;43m*\u001b[39;49m\u001b[38;5;28;43minput\u001b[39;49m\u001b[43m,\u001b[49m\u001b[43m \u001b[49m\u001b[38;5;241;43m*\u001b[39;49m\u001b[38;5;241;43m*\u001b[39;49m\u001b[43mkwargs\u001b[49m\u001b[43m)\u001b[49m\n\u001b[1;32m   1103\u001b[0m \u001b[38;5;66;03m# Do not call functions when jit is used\u001b[39;00m\n\u001b[1;32m   1104\u001b[0m full_backward_hooks, non_full_backward_hooks \u001b[38;5;241m=\u001b[39m [], []\n",
      "Input \u001b[0;32mIn [5]\u001b[0m, in \u001b[0;36mresnet18_gcn.forward\u001b[0;34m(self, feature, inp)\u001b[0m\n\u001b[1;32m     25\u001b[0m inp \u001b[38;5;241m=\u001b[39m inp[\u001b[38;5;241m0\u001b[39m]\n\u001b[1;32m     26\u001b[0m adj \u001b[38;5;241m=\u001b[39m gen_adj(\u001b[38;5;28mself\u001b[39m\u001b[38;5;241m.\u001b[39mA)\u001b[38;5;241m.\u001b[39mdetach()\n\u001b[0;32m---> 27\u001b[0m x \u001b[38;5;241m=\u001b[39m \u001b[38;5;28;43mself\u001b[39;49m\u001b[38;5;241;43m.\u001b[39;49m\u001b[43mgc1\u001b[49m\u001b[43m(\u001b[49m\u001b[43minp\u001b[49m\u001b[43m,\u001b[49m\u001b[43m \u001b[49m\u001b[43madj\u001b[49m\u001b[43m)\u001b[49m\n\u001b[1;32m     28\u001b[0m x \u001b[38;5;241m=\u001b[39m \u001b[38;5;28mself\u001b[39m\u001b[38;5;241m.\u001b[39mrelu(x)\n\u001b[1;32m     29\u001b[0m x \u001b[38;5;241m=\u001b[39m \u001b[38;5;28mself\u001b[39m\u001b[38;5;241m.\u001b[39mgc2(x, adj)\n",
      "File \u001b[0;32m/home/miniconda3/lib/python3.9/site-packages/torch/nn/modules/module.py:1102\u001b[0m, in \u001b[0;36mModule._call_impl\u001b[0;34m(self, *input, **kwargs)\u001b[0m\n\u001b[1;32m   1098\u001b[0m \u001b[38;5;66;03m# If we don't have any hooks, we want to skip the rest of the logic in\u001b[39;00m\n\u001b[1;32m   1099\u001b[0m \u001b[38;5;66;03m# this function, and just call forward.\u001b[39;00m\n\u001b[1;32m   1100\u001b[0m \u001b[38;5;28;01mif\u001b[39;00m \u001b[38;5;129;01mnot\u001b[39;00m (\u001b[38;5;28mself\u001b[39m\u001b[38;5;241m.\u001b[39m_backward_hooks \u001b[38;5;129;01mor\u001b[39;00m \u001b[38;5;28mself\u001b[39m\u001b[38;5;241m.\u001b[39m_forward_hooks \u001b[38;5;129;01mor\u001b[39;00m \u001b[38;5;28mself\u001b[39m\u001b[38;5;241m.\u001b[39m_forward_pre_hooks \u001b[38;5;129;01mor\u001b[39;00m _global_backward_hooks\n\u001b[1;32m   1101\u001b[0m         \u001b[38;5;129;01mor\u001b[39;00m _global_forward_hooks \u001b[38;5;129;01mor\u001b[39;00m _global_forward_pre_hooks):\n\u001b[0;32m-> 1102\u001b[0m     \u001b[38;5;28;01mreturn\u001b[39;00m \u001b[43mforward_call\u001b[49m\u001b[43m(\u001b[49m\u001b[38;5;241;43m*\u001b[39;49m\u001b[38;5;28;43minput\u001b[39;49m\u001b[43m,\u001b[49m\u001b[43m \u001b[49m\u001b[38;5;241;43m*\u001b[39;49m\u001b[38;5;241;43m*\u001b[39;49m\u001b[43mkwargs\u001b[49m\u001b[43m)\u001b[49m\n\u001b[1;32m   1103\u001b[0m \u001b[38;5;66;03m# Do not call functions when jit is used\u001b[39;00m\n\u001b[1;32m   1104\u001b[0m full_backward_hooks, non_full_backward_hooks \u001b[38;5;241m=\u001b[39m [], []\n",
      "Input \u001b[0;32mIn [4]\u001b[0m, in \u001b[0;36mGraphConvolution.forward\u001b[0;34m(self, x, adj)\u001b[0m\n\u001b[1;32m     12\u001b[0m \u001b[38;5;28;01mdef\u001b[39;00m \u001b[38;5;21mforward\u001b[39m(\u001b[38;5;28mself\u001b[39m, x, adj):\n\u001b[1;32m     13\u001b[0m     support \u001b[38;5;241m=\u001b[39m torch\u001b[38;5;241m.\u001b[39mmatmul(x, \u001b[38;5;28mself\u001b[39m\u001b[38;5;241m.\u001b[39mweight)\n\u001b[0;32m---> 14\u001b[0m     output \u001b[38;5;241m=\u001b[39m \u001b[43mtorch\u001b[49m\u001b[38;5;241;43m.\u001b[39;49m\u001b[43mmatmul\u001b[49m\u001b[43m(\u001b[49m\u001b[43madj\u001b[49m\u001b[43m,\u001b[49m\u001b[43m \u001b[49m\u001b[43msupport\u001b[49m\u001b[43m)\u001b[49m\n\u001b[1;32m     15\u001b[0m     \u001b[38;5;28;01mif\u001b[39;00m \u001b[38;5;28mself\u001b[39m\u001b[38;5;241m.\u001b[39mbias \u001b[38;5;129;01mis\u001b[39;00m \u001b[38;5;129;01mnot\u001b[39;00m \u001b[38;5;28;01mNone\u001b[39;00m:\n\u001b[1;32m     16\u001b[0m         \u001b[38;5;28;01mreturn\u001b[39;00m output \u001b[38;5;241m+\u001b[39m \u001b[38;5;28mself\u001b[39m\u001b[38;5;241m.\u001b[39mbias\n",
      "\u001b[0;31mRuntimeError\u001b[0m: size mismatch, got 7, 7x7,1024"
     ]
    }
   ],
   "source": [
    "res = model(feature, inp)"
   ]
  },
  {
   "cell_type": "code",
   "execution_count": null,
   "id": "4f769562-ba3d-42fa-9943-1a3aa6993dac",
   "metadata": {},
   "outputs": [],
   "source": []
  }
 ],
 "metadata": {
  "kernelspec": {
   "display_name": "Python 3",
   "language": "python",
   "name": "python3"
  },
  "language_info": {
   "codemirror_mode": {
    "name": "ipython",
    "version": 3
   },
   "file_extension": ".py",
   "mimetype": "text/x-python",
   "name": "python",
   "nbconvert_exporter": "python",
   "pygments_lexer": "ipython3",
   "version": "3.9.7"
  }
 },
 "nbformat": 4,
 "nbformat_minor": 5
}
