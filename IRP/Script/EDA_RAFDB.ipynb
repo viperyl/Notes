{
 "cells": [
  {
   "cell_type": "code",
   "execution_count": 26,
   "id": "f4752a0f-0475-4c54-b866-8ffe02fd5ed2",
   "metadata": {},
   "outputs": [],
   "source": [
    "import os\n",
    "import cv2\n",
    "import numpy as np\n",
    "import pandas as pd"
   ]
  },
  {
   "cell_type": "code",
   "execution_count": 27,
   "id": "8f4e0863-acad-454a-9877-9bd68ad6f366",
   "metadata": {},
   "outputs": [
    {
     "data": {
      "text/html": [
       "<div>\n",
       "<style scoped>\n",
       "    .dataframe tbody tr th:only-of-type {\n",
       "        vertical-align: middle;\n",
       "    }\n",
       "\n",
       "    .dataframe tbody tr th {\n",
       "        vertical-align: top;\n",
       "    }\n",
       "\n",
       "    .dataframe thead th {\n",
       "        text-align: right;\n",
       "    }\n",
       "</style>\n",
       "<table border=\"1\" class=\"dataframe\">\n",
       "  <thead>\n",
       "    <tr style=\"text-align: right;\">\n",
       "      <th></th>\n",
       "      <th>filename</th>\n",
       "      <th>label</th>\n",
       "    </tr>\n",
       "  </thead>\n",
       "  <tbody>\n",
       "    <tr>\n",
       "      <th>0</th>\n",
       "      <td>train_00001.jpg</td>\n",
       "      <td>5</td>\n",
       "    </tr>\n",
       "    <tr>\n",
       "      <th>1</th>\n",
       "      <td>train_00002.jpg</td>\n",
       "      <td>5</td>\n",
       "    </tr>\n",
       "    <tr>\n",
       "      <th>2</th>\n",
       "      <td>train_00003.jpg</td>\n",
       "      <td>4</td>\n",
       "    </tr>\n",
       "    <tr>\n",
       "      <th>3</th>\n",
       "      <td>train_00004.jpg</td>\n",
       "      <td>4</td>\n",
       "    </tr>\n",
       "    <tr>\n",
       "      <th>4</th>\n",
       "      <td>train_00005.jpg</td>\n",
       "      <td>5</td>\n",
       "    </tr>\n",
       "  </tbody>\n",
       "</table>\n",
       "</div>"
      ],
      "text/plain": [
       "          filename  label\n",
       "0  train_00001.jpg      5\n",
       "1  train_00002.jpg      5\n",
       "2  train_00003.jpg      4\n",
       "3  train_00004.jpg      4\n",
       "4  train_00005.jpg      5"
      ]
     },
     "execution_count": 27,
     "metadata": {},
     "output_type": "execute_result"
    }
   ],
   "source": [
    "df = pd.read_csv(\"/run/media/viper/LSP/Dataset/RAF-DB/basic/EmoLabel/list_patition_label.txt\", sep=\" \", header = None)\n",
    "df.columns = [\"filename\", \"label\"]\n",
    "df.head()"
   ]
  },
  {
   "cell_type": "code",
   "execution_count": 28,
   "id": "0bfac195-0f1f-46c1-b898-dc22f7b8279d",
   "metadata": {},
   "outputs": [],
   "source": [
    "def full_fill_filename(row, aligned = True):\n",
    "    base_path = \"/run/media/viper/LSP/Dataset/RAF-DB/basic/Image/aligned/\"\n",
    "    row_decompose = row.split('.')\n",
    "    align_name = row_decompose[0] + \"aligned\" + \".\" + row_decompose[-1]\n",
    "    return os.path.join(base_path, row), os.path.join(base_path, align_name)\n",
    "    \n",
    "\n",
    "def get_img_size(row):\n",
    "    img = cv2.imread(row)\n",
    "    "
   ]
  },
  {
   "cell_type": "code",
   "execution_count": 29,
   "id": "23aa6365-3f6a-44cf-be3f-752986cb5cc1",
   "metadata": {},
   "outputs": [
    {
     "ename": "ValueError",
     "evalue": "too many values to unpack (expected 2)",
     "output_type": "error",
     "traceback": [
      "\u001b[0;31m---------------------------------------------------------------------------\u001b[0m",
      "\u001b[0;31mValueError\u001b[0m                                Traceback (most recent call last)",
      "Input \u001b[0;32mIn [29]\u001b[0m, in \u001b[0;36m<cell line: 1>\u001b[0;34m()\u001b[0m\n\u001b[0;32m----> 1\u001b[0m df[\u001b[38;5;124m\"\u001b[39m\u001b[38;5;124morign_fr\u001b[39m\u001b[38;5;124m\"\u001b[39m], df[\u001b[38;5;124m\"\u001b[39m\u001b[38;5;124malign_fr\u001b[39m\u001b[38;5;124m\"\u001b[39m] \u001b[38;5;241m=\u001b[39m df[\u001b[38;5;124m\"\u001b[39m\u001b[38;5;124mfilename\u001b[39m\u001b[38;5;124m\"\u001b[39m]\u001b[38;5;241m.\u001b[39mapply(full_fill_filename)\n",
      "\u001b[0;31mValueError\u001b[0m: too many values to unpack (expected 2)"
     ]
    }
   ],
   "source": [
    "df[\"orign_fr\"], df[\"align_fr\"] = df[\"filename\"].apply(full_fill_filename)"
   ]
  },
  {
   "cell_type": "code",
   "execution_count": 15,
   "id": "267f3207-f348-4a15-9b7e-a0406f7f1820",
   "metadata": {},
   "outputs": [
    {
     "data": {
      "text/html": [
       "<div>\n",
       "<style scoped>\n",
       "    .dataframe tbody tr th:only-of-type {\n",
       "        vertical-align: middle;\n",
       "    }\n",
       "\n",
       "    .dataframe tbody tr th {\n",
       "        vertical-align: top;\n",
       "    }\n",
       "\n",
       "    .dataframe thead th {\n",
       "        text-align: right;\n",
       "    }\n",
       "</style>\n",
       "<table border=\"1\" class=\"dataframe\">\n",
       "  <thead>\n",
       "    <tr style=\"text-align: right;\">\n",
       "      <th></th>\n",
       "      <th>filename</th>\n",
       "      <th>label</th>\n",
       "    </tr>\n",
       "  </thead>\n",
       "  <tbody>\n",
       "    <tr>\n",
       "      <th>0</th>\n",
       "      <td>/run/media/viper/LSP/Dataset/RAF-DB/basic/Imag...</td>\n",
       "      <td>5</td>\n",
       "    </tr>\n",
       "    <tr>\n",
       "      <th>1</th>\n",
       "      <td>/run/media/viper/LSP/Dataset/RAF-DB/basic/Imag...</td>\n",
       "      <td>5</td>\n",
       "    </tr>\n",
       "    <tr>\n",
       "      <th>2</th>\n",
       "      <td>/run/media/viper/LSP/Dataset/RAF-DB/basic/Imag...</td>\n",
       "      <td>4</td>\n",
       "    </tr>\n",
       "    <tr>\n",
       "      <th>3</th>\n",
       "      <td>/run/media/viper/LSP/Dataset/RAF-DB/basic/Imag...</td>\n",
       "      <td>4</td>\n",
       "    </tr>\n",
       "    <tr>\n",
       "      <th>4</th>\n",
       "      <td>/run/media/viper/LSP/Dataset/RAF-DB/basic/Imag...</td>\n",
       "      <td>5</td>\n",
       "    </tr>\n",
       "  </tbody>\n",
       "</table>\n",
       "</div>"
      ],
      "text/plain": [
       "                                            filename  label\n",
       "0  /run/media/viper/LSP/Dataset/RAF-DB/basic/Imag...      5\n",
       "1  /run/media/viper/LSP/Dataset/RAF-DB/basic/Imag...      5\n",
       "2  /run/media/viper/LSP/Dataset/RAF-DB/basic/Imag...      4\n",
       "3  /run/media/viper/LSP/Dataset/RAF-DB/basic/Imag...      4\n",
       "4  /run/media/viper/LSP/Dataset/RAF-DB/basic/Imag...      5"
      ]
     },
     "execution_count": 15,
     "metadata": {},
     "output_type": "execute_result"
    }
   ],
   "source": [
    "df.head()"
   ]
  },
  {
   "cell_type": "code",
   "execution_count": 18,
   "id": "33c7e9b3-b8de-48e3-a53e-019846f652a3",
   "metadata": {},
   "outputs": [],
   "source": [
    "img = cv2.imread(df.iloc[0][\"filename\"])"
   ]
  },
  {
   "cell_type": "code",
   "execution_count": 21,
   "id": "e2d60439-3a00-4295-86f8-d68ced4e33ac",
   "metadata": {},
   "outputs": [
    {
     "ename": "AttributeError",
     "evalue": "'NoneType' object has no attribute 'shape'",
     "output_type": "error",
     "traceback": [
      "\u001b[0;31m---------------------------------------------------------------------------\u001b[0m",
      "\u001b[0;31mAttributeError\u001b[0m                            Traceback (most recent call last)",
      "Input \u001b[0;32mIn [21]\u001b[0m, in \u001b[0;36m<cell line: 1>\u001b[0;34m()\u001b[0m\n\u001b[0;32m----> 1\u001b[0m \u001b[43mimg\u001b[49m\u001b[38;5;241;43m.\u001b[39;49m\u001b[43mshape\u001b[49m\n",
      "\u001b[0;31mAttributeError\u001b[0m: 'NoneType' object has no attribute 'shape'"
     ]
    }
   ],
   "source": [
    "img.shape"
   ]
  },
  {
   "cell_type": "code",
   "execution_count": 22,
   "id": "583e41fa-0b5f-4a49-8ad3-c531080983ea",
   "metadata": {},
   "outputs": [
    {
     "data": {
      "text/plain": [
       "'/run/media/viper/LSP/Dataset/RAF-DB/basic/Image/aligned/train_00001.jpg'"
      ]
     },
     "execution_count": 22,
     "metadata": {},
     "output_type": "execute_result"
    }
   ],
   "source": [
    "df.iloc[0][\"filename\"]"
   ]
  },
  {
   "cell_type": "code",
   "execution_count": 23,
   "id": "f0a07db5-cb90-4a53-b787-d0ff6cfef08e",
   "metadata": {},
   "outputs": [
    {
     "data": {
      "text/plain": [
       "False"
      ]
     },
     "execution_count": 23,
     "metadata": {},
     "output_type": "execute_result"
    }
   ],
   "source": [
    "os.path.isfile(df.iloc[0][\"filename\"])"
   ]
  },
  {
   "cell_type": "code",
   "execution_count": 24,
   "id": "9508ccd2-2cfa-443e-ab8d-2b58999cbc6b",
   "metadata": {},
   "outputs": [],
   "source": [
    "a = 'train_00001.jpg'.split('.')"
   ]
  },
  {
   "cell_type": "code",
   "execution_count": 25,
   "id": "36694a56-86e3-41ed-ac87-5998e24ca0c5",
   "metadata": {},
   "outputs": [
    {
     "data": {
      "text/plain": [
       "['train_00001', 'jpg']"
      ]
     },
     "execution_count": 25,
     "metadata": {},
     "output_type": "execute_result"
    }
   ],
   "source": [
    "a"
   ]
  },
  {
   "cell_type": "code",
   "execution_count": null,
   "id": "f828a109-8eb4-429b-8e7d-f897157871d0",
   "metadata": {},
   "outputs": [],
   "source": []
  }
 ],
 "metadata": {
  "kernelspec": {
   "display_name": "Python 3",
   "language": "python",
   "name": "python3"
  },
  "language_info": {
   "codemirror_mode": {
    "name": "ipython",
    "version": 3
   },
   "file_extension": ".py",
   "mimetype": "text/x-python",
   "name": "python",
   "nbconvert_exporter": "python",
   "pygments_lexer": "ipython3",
   "version": "3.9.7"
  }
 },
 "nbformat": 4,
 "nbformat_minor": 5
}
