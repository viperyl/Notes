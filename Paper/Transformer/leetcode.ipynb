{
 "cells": [
  {
   "cell_type": "code",
   "execution_count": 45,
   "metadata": {},
   "outputs": [],
   "source": []
  },
  {
   "cell_type": "code",
   "execution_count": null,
   "metadata": {},
   "outputs": [],
   "source": [
    "# from typing import List\n",
    "# def closedIsland(grid: List[List[int]]) -> int:\n",
    "#     n, m = len(grid), len(grid[0])\n",
    "#     res = 0\n",
    "#     directions = [(-1, 0), (0, -1), (1, 0), (0, 1)]\n",
    "#     for i in range(1, n-1):\n",
    "#         for j in range(1, m-1):\n",
    "#             if grid[i][j] == 0:\n",
    "#                 flag = 0\n",
    "#                 cur_list = [(i,j)]\n",
    "#                 while cur_list != []:\n",
    "#                     x, y = cur_list.pop()\n",
    "#                     grid[x][y] = 9\n",
    "#                     for direction in directions:\n",
    "#                         new_x, new_y = x + direction[0], y + direction[1]\n",
    "#                         if 0<= new_x <= n-1 and 0<= new_y <= m-1:\n",
    "#                             if grid[new_x][new_y] == 0:\n",
    "#                                 cur_list.append((new_x, new_y))\n",
    "#                                 if new_x == 0 or new_x == n-1 or new_y == 0 or new_y == m-1:\n",
    "#                                     flag = 1\n",
    "#                 if flag == 0:\n",
    "#                     res += 1\n",
    "#     return res"
   ]
  },
  {
   "cell_type": "code",
   "execution_count": 46,
   "metadata": {},
   "outputs": [
    {
     "name": "stdout",
     "output_type": "stream",
     "text": [
      "5\n"
     ]
    }
   ],
   "source": [
    "# grid = [[0,0,1,1,0,1,0,0,1,0],[1,1,0,1,1,0,1,1,1,0],[1,0,1,1,1,0,0,1,1,0],[0,1,1,0,0,0,0,1,0,1],[0,0,0,0,0,0,1,1,1,0],[0,1,0,1,0,1,0,1,1,1],[1,0,1,0,1,1,0,0,0,1],[1,1,1,1,1,1,0,0,0,0],[1,1,1,0,0,1,0,1,0,1],[1,1,1,0,1,1,0,1,1,0]]\n",
    "# print(closedIsland(grid))"
   ]
  },
  {
   "cell_type": "code",
   "execution_count": 42,
   "metadata": {},
   "outputs": [
    {
     "name": "stdout",
     "output_type": "stream",
     "text": [
      "[0, 0, 1, 1, 0, 1, 0, 0, 1, 0]\n",
      "[1, 1, 9, 1, 1, 9, 1, 1, 1, 0]\n",
      "[1, 9, 1, 1, 1, 9, 9, 1, 1, 0]\n",
      "[9, 1, 1, 9, 9, 9, 9, 1, 9, 1]\n",
      "[9, 9, 9, 9, 9, 9, 1, 1, 1, 0]\n",
      "[9, 1, 9, 1, 9, 1, 9, 1, 1, 1]\n",
      "[1, 9, 1, 9, 1, 1, 9, 9, 9, 1]\n",
      "[1, 1, 1, 1, 1, 1, 9, 9, 9, 9]\n",
      "[1, 1, 1, 9, 9, 1, 9, 1, 9, 1]\n",
      "[1, 1, 1, 9, 1, 1, 9, 1, 1, 0]\n"
     ]
    }
   ],
   "source": [
    "# for item in grid:\n",
    "#     print(item)"
   ]
  },
  {
   "cell_type": "code",
   "execution_count": null,
   "metadata": {},
   "outputs": [],
   "source": []
  },
  {
   "cell_type": "code",
   "execution_count": 43,
   "metadata": {},
   "outputs": [],
   "source": [
    "# from typing import List\n",
    "\n",
    "# def minPathSum(grid: List[List[int]]) -> int:\n",
    "#     n, m = len(grid), len(grid[0])\n",
    "#     dp = [[0 for _ in range(m)] for _ in range(n)]\n",
    "#     dp[0][0] = grid[0][0]\n",
    "#     for i in range(1, m):\n",
    "#         dp[0][i] = dp[0][i-1] + grid[0][i]\n",
    "#     for j in range(1, n):\n",
    "#         dp[j][0] = dp[j-1][0] + grid[j][0]\n",
    "#     for j in range(1, n):\n",
    "#         for i in range(1, m):\n",
    "#             dp[j][i] = min(dp[j-1][i], dp[j][i-1]) + grid[j][i]\n",
    "#     return dp[-1][-1]"
   ]
  },
  {
   "cell_type": "code",
   "execution_count": 44,
   "metadata": {},
   "outputs": [],
   "source": [
    "# grid = [[1,2,3],[4,5,6]]\n",
    "# grid = [[1,3,1],[1,5,1],[4,2,1]]\n",
    "# print(minPathSum(grid))"
   ]
  },
  {
   "cell_type": "code",
   "execution_count": null,
   "metadata": {},
   "outputs": [],
   "source": []
  }
 ],
 "metadata": {
  "kernelspec": {
   "display_name": "base",
   "language": "python",
   "name": "python3"
  },
  "language_info": {
   "codemirror_mode": {
    "name": "ipython",
    "version": 3
   },
   "file_extension": ".py",
   "mimetype": "text/x-python",
   "name": "python",
   "nbconvert_exporter": "python",
   "pygments_lexer": "ipython3",
   "version": "3.10.11"
  },
  "orig_nbformat": 4
 },
 "nbformat": 4,
 "nbformat_minor": 2
}
