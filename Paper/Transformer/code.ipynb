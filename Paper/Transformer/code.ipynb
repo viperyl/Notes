{
 "cells": [
  {
   "cell_type": "code",
   "execution_count": 1,
   "metadata": {},
   "outputs": [],
   "source": [
    "import torch\n",
    "import numpy as np"
   ]
  },
  {
   "attachments": {},
   "cell_type": "markdown",
   "metadata": {},
   "source": [
    "$$\n",
    "\\begin{align}\n",
    "\\text{SoftMax}(x_i) &= \\frac{e^{x_i}}{\\sum\\limits_{j=1}^{K} e^{x_j}}\\\\\n",
    "\\text{Attention} &= \\text{SoftMax}(\\frac{Q\\times K^\\intercal}{\\sqrt{d_k}})\\times \n",
    "V\n",
    "\n",
    "\n",
    "\\end{align}\n",
    "\n",
    "$$"
   ]
  },
  {
   "cell_type": "code",
   "execution_count": 79,
   "metadata": {},
   "outputs": [],
   "source": [
    "def softmax(x):\n",
    "    new_x = np.exp(x)\n",
    "    return new_x / np.sum(new_x, axis=0)\n",
    "\n",
    "def softmax_stable(x):\n",
    "    new_x = np.exp(x - np.max(x))\n",
    "    return new_x / np.sum(new_x, axis=1)\n",
    "\n",
    "\n",
    "def softmax_stable_1(x):\n",
    "    return(np.exp(x - np.max(x)) / np.exp(x - np.max(x)).sum())\n",
    "\n",
    "\n",
    "def attention(inputs, emb_size):\n",
    "    Wq = np.random.random((128, emb_size))\n",
    "    Wk = np.random.random((128, emb_size))\n",
    "    Wv = np.random.random((128, emb_size))\n",
    "\n",
    "    q = inputs @ Wq\n",
    "    k = inputs @ Wk\n",
    "    v = inputs @ Wv\n",
    "     \n",
    "    a = q @ k.T / np.sqrt(emb_size)\n",
    "    z = softmax_stable_1(a)\n",
    "    z = z @ v\n",
    "    return a, z"
   ]
  },
  {
   "cell_type": "code",
   "execution_count": 80,
   "metadata": {},
   "outputs": [],
   "source": [
    "inputs = np.random.random((4 ,128))\n",
    "emb_size = 256\n",
    "inputs, res_np = attention(inputs, emb_size)\n"
   ]
  },
  {
   "cell_type": "code",
   "execution_count": null,
   "metadata": {},
   "outputs": [],
   "source": []
  }
 ],
 "metadata": {
  "kernelspec": {
   "display_name": "base",
   "language": "python",
   "name": "python3"
  },
  "language_info": {
   "codemirror_mode": {
    "name": "ipython",
    "version": 3
   },
   "file_extension": ".py",
   "mimetype": "text/x-python",
   "name": "python",
   "nbconvert_exporter": "python",
   "pygments_lexer": "ipython3",
   "version": "3.10.11"
  },
  "orig_nbformat": 4
 },
 "nbformat": 4,
 "nbformat_minor": 2
}
