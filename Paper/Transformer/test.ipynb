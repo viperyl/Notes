{
 "cells": [
  {
   "cell_type": "code",
   "execution_count": null,
   "metadata": {},
   "outputs": [],
   "source": [
    "import heapq"
   ]
  },
  {
   "cell_type": "code",
   "execution_count": null,
   "metadata": {},
   "outputs": [],
   "source": [
    "cases = [[[3,3,4,1], [4,4,4,2], 2],\n",
    "         [[2,2,1,2], [1,2,1,2], 2]]"
   ]
  },
  {
   "cell_type": "code",
   "execution_count": null,
   "metadata": {},
   "outputs": [],
   "source": [
    "for reward1, reward2, k in cases:\n",
    "    new_list = [(reward1[i] - reward2[i], i, reward1[i], reward2[i]) for i in range(len(reward1))]\n",
    "    print(new_list)\n",
    "    mouse_1_reward_index = heapq.nlargest(k, new_list, key = lambda x: (x[0], -x[2], x[3]))\n",
    "    mouse_2_reward_index = heapq.nsmallest(len(reward1) - k, new_list, key = lambda x: (x[0], -x[2], x[3]))\n",
    "    res = sum(list(map(lambda x: reward1[x[1]], mouse_1_reward_index))) + sum(list(map(lambda x: reward2[x[1]], mouse_2_reward_index)))\n",
    "    print(mouse_1_reward_index)\n",
    "    print(mouse_2_reward_index)\n",
    "    print(res, end=\"\\n\\n\")\n"
   ]
  },
  {
   "cell_type": "code",
   "execution_count": null,
   "metadata": {},
   "outputs": [],
   "source": []
  },
  {
   "cell_type": "code",
   "execution_count": null,
   "metadata": {},
   "outputs": [],
   "source": []
  }
 ],
 "metadata": {
  "kernelspec": {
   "display_name": "base",
   "language": "python",
   "name": "python3"
  },
  "language_info": {
   "codemirror_mode": {
    "name": "ipython",
    "version": 3
   },
   "file_extension": ".py",
   "mimetype": "text/x-python",
   "name": "python",
   "nbconvert_exporter": "python",
   "pygments_lexer": "ipython3",
   "version": "3.10.11"
  },
  "orig_nbformat": 4
 },
 "nbformat": 4,
 "nbformat_minor": 2
}
