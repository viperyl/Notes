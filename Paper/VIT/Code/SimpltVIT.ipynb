{
 "cells": [
  {
   "cell_type": "code",
   "execution_count": 51,
   "id": "14a5a901-95ab-4326-a12d-60edaf3c052e",
   "metadata": {},
   "outputs": [],
   "source": [
    "import torch\n",
    "from torch import optim\n",
    "from torch import nn\n",
    "import numpy as np\n",
    "import pickle"
   ]
  },
  {
   "cell_type": "code",
   "execution_count": 47,
   "id": "1dc788f9-89cd-4c74-9665-4ae6dd2281cb",
   "metadata": {},
   "outputs": [],
   "source": [
    "def load_CIFAR_batch(filename):\n",
    "    with open(filename, 'rb') as f:\n",
    "        datadict = pickle.load(f,encoding='bytes')\n",
    "    return datadict"
   ]
  },
  {
   "cell_type": "code",
   "execution_count": 48,
   "id": "9712daa8-d9ed-4ca8-8dac-98a666199a12",
   "metadata": {},
   "outputs": [],
   "source": [
    "dataset = load_CIFAR_batch(\"D:\\\\Dataset\\\\cifar-100-python\\\\train\")\n",
    "X = dataset[b'data']\n",
    "Y = dataset[b'fine_labels'];"
   ]
  },
  {
   "cell_type": "code",
   "execution_count": 49,
   "id": "765a641f-0ad2-4c43-89ff-856fe04c06db",
   "metadata": {},
   "outputs": [],
   "source": [
    "X = np.array(X)\n",
    "X = X.reshape((50000, 32, 32, 3)).astype(float)\n",
    "Y = np.array(Y)"
   ]
  },
  {
   "cell_type": "code",
   "execution_count": 50,
   "id": "ba9a77e3-9b27-449e-8b5b-4d5b55d31218",
   "metadata": {},
   "outputs": [
    {
     "data": {
      "text/plain": [
       "numpy.ndarray"
      ]
     },
     "execution_count": 50,
     "metadata": {},
     "output_type": "execute_result"
    }
   ],
   "source": [
    "class VIT(nn.Module):\n",
    "    def __init__(self, img_size = 32, patch_size=4, ):\n",
    "        "
   ]
  },
  {
   "cell_type": "code",
   "execution_count": null,
   "id": "c0087790-eb15-48ef-ba17-6948ab3fede6",
   "metadata": {},
   "outputs": [],
   "source": []
  }
 ],
 "metadata": {
  "kernelspec": {
   "display_name": "Python 3",
   "language": "python",
   "name": "python3"
  },
  "language_info": {
   "codemirror_mode": {
    "name": "ipython",
    "version": 3
   },
   "file_extension": ".py",
   "mimetype": "text/x-python",
   "name": "python",
   "nbconvert_exporter": "python",
   "pygments_lexer": "ipython3",
   "version": "3.8.8"
  }
 },
 "nbformat": 4,
 "nbformat_minor": 5
}
