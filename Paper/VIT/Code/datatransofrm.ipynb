{
 "cells": [
  {
   "cell_type": "code",
   "execution_count": 17,
   "id": "44fa6b1d-5117-4c9c-95a8-73e8fd1df419",
   "metadata": {},
   "outputs": [],
   "source": [
    "import torch\n",
    "import torch.nn as nn"
   ]
  },
  {
   "cell_type": "code",
   "execution_count": 18,
   "id": "11a65300-39a5-40dd-953c-f8e2dda87836",
   "metadata": {},
   "outputs": [
    {
     "data": {
      "text/plain": [
       "True"
      ]
     },
     "execution_count": 18,
     "metadata": {},
     "output_type": "execute_result"
    }
   ],
   "source": [
    "torch.cuda.is_available()"
   ]
  },
  {
   "cell_type": "markdown",
   "id": "680874d7-6047-478d-a8a1-b1b81e8e08a8",
   "metadata": {},
   "source": [
    "# Patch embedding"
   ]
  },
  {
   "cell_type": "code",
   "execution_count": 19,
   "id": "00655df9-cda9-43ba-8bd2-87444f05f36f",
   "metadata": {},
   "outputs": [
    {
     "name": "stdout",
     "output_type": "stream",
     "text": [
      "torch.Size([100, 3, 224, 224])\n"
     ]
    }
   ],
   "source": [
    "# B, C, H, W\n",
    "img = torch.rand((100, 3, 224, 224))\n",
    "print(img.shape)"
   ]
  },
  {
   "cell_type": "code",
   "execution_count": 20,
   "id": "ed60b77e-5a46-49d8-8f00-40832e7cb52d",
   "metadata": {},
   "outputs": [],
   "source": [
    "img_size = (224, 224)\n",
    "patch_size = (16, 16)\n",
    "grid_size = (img_size[0]//patch_size[0], img_size[1]//patch_size[1])\n",
    "num_patches = grid_size[0] * grid_size[1]\n",
    "proj = nn.Conv2d(3, 768, kernel_size=patch_size, stride=patch_size)\n",
    "norm = nn.Identity()"
   ]
  },
  {
   "cell_type": "code",
   "execution_count": 21,
   "id": "1a481661-13fe-45d5-b95e-7a334eb01fa8",
   "metadata": {},
   "outputs": [
    {
     "name": "stdout",
     "output_type": "stream",
     "text": [
      "torch.Size([100, 768, 14, 14])\n",
      "torch.Size([100, 768, 196])\n",
      "torch.Size([100, 196, 768])\n"
     ]
    }
   ],
   "source": [
    "B, C, H, W = img.shape\n",
    "x = proj(img)\n",
    "print(x.shape)\n",
    "x = x.flatten(2)\n",
    "print(x.shape)\n",
    "x = x.transpose(1,2)\n",
    "print(x.shape)"
   ]
  },
  {
   "cell_type": "markdown",
   "id": "35ded6c6-48c0-4ef4-b177-a80b604de10d",
   "metadata": {},
   "source": [
    "# Attention"
   ]
  },
  {
   "cell_type": "code",
   "execution_count": 22,
   "id": "e9c44692-55f1-42cb-9eb3-b0addbde5fe0",
   "metadata": {},
   "outputs": [],
   "source": [
    "num_heads = 16\n",
    "dim = 768\n",
    "head_dim = dim//num_heads\n",
    "qkv = nn.Linear(dim, dim*3, bias = False)\n",
    "scale = head_dim ** -0.5\n",
    "attn_drop = 0.2\n",
    "proj1 = nn.Linear(dim, dim)\n",
    "proj_drop = nn.Dropout(0.2)"
   ]
  },
  {
   "cell_type": "code",
   "execution_count": 23,
   "id": "010c1a01-2762-42f7-9792-1aab6b85143c",
   "metadata": {},
   "outputs": [
    {
     "name": "stdout",
     "output_type": "stream",
     "text": [
      "torch.Size([100, 196, 2304])\n",
      "torch.Size([100, 196, 3, 16, 48])\n",
      "[3, batch_size, num_heads, num_patches + 1, embed_dim_per_head]\n",
      "torch.Size([3, 100, 16, 196, 48])\n"
     ]
    }
   ],
   "source": [
    "B, N, C = x.shape\n",
    "x = qkv(x)\n",
    "print(x.shape)\n",
    "x = x.reshape(B, N, 3, num_heads, C//num_heads)\n",
    "print(x.shape)\n",
    "x = x.permute(2, 0, 3, 1, 4)\n",
    "print(\"[3, batch_size, num_heads, num_patches + 1, embed_dim_per_head]\")\n",
    "print(x.shape)"
   ]
  },
  {
   "cell_type": "code",
   "execution_count": null,
   "id": "7d9dc671-7496-448a-93dc-3eb4ff20837e",
   "metadata": {},
   "outputs": [],
   "source": []
  },
  {
   "cell_type": "code",
   "execution_count": null,
   "id": "bfc15cc4-afd9-4c93-b235-25208a22c42a",
   "metadata": {},
   "outputs": [],
   "source": []
  },
  {
   "cell_type": "code",
   "execution_count": null,
   "id": "a21b2dbb-fb10-4be5-b4ba-f01f07a4c734",
   "metadata": {},
   "outputs": [],
   "source": []
  },
  {
   "cell_type": "code",
   "execution_count": null,
   "id": "a29d7793-0720-42b0-b0b6-fb15a815c800",
   "metadata": {},
   "outputs": [],
   "source": []
  },
  {
   "cell_type": "code",
   "execution_count": null,
   "id": "4f434685-a53e-43bd-8b12-59b869725d9c",
   "metadata": {},
   "outputs": [],
   "source": []
  }
 ],
 "metadata": {
  "kernelspec": {
   "display_name": "Python 3 (ipykernel)",
   "language": "python",
   "name": "python3"
  },
  "language_info": {
   "codemirror_mode": {
    "name": "ipython",
    "version": 3
   },
   "file_extension": ".py",
   "mimetype": "text/x-python",
   "name": "python",
   "nbconvert_exporter": "python",
   "pygments_lexer": "ipython3",
   "version": "3.9.5"
  }
 },
 "nbformat": 4,
 "nbformat_minor": 5
}
