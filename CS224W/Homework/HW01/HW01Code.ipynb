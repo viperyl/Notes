{
 "cells": [
  {
   "cell_type": "code",
   "execution_count": 47,
   "metadata": {},
   "outputs": [],
   "source": [
    "import networkx as nx\n",
    "import numpy as np\n",
    "import matplotlib.pyplot as plt"
   ]
  },
  {
   "cell_type": "markdown",
   "metadata": {},
   "source": [
    "# Problem 2"
   ]
  },
  {
   "cell_type": "code",
   "execution_count": 51,
   "metadata": {},
   "outputs": [
    {
     "data": {
      "image/png": "[encoded data removed]",
      "text/plain": [
       "<Figure size 432x288 with 1 Axes>"
      ]
     },
     "metadata": {},
     "output_type": "display_data"
    }
   ],
   "source": [
    "G = nx.Graph()\n",
    "G.add_nodes_from([(i+1, {\"weight\": 0.5}) for i in range(10)])\n",
    "G.add_edges_from([(1, 2), (1, 3), (2, 3), (2,4), (2,5), (3,6), (4, 5), (4, 7), (4, 8), (5, 6), (5, 9), (6, 10), (8, 9)])\n",
    "G.nodes[5][\"weight\"] = 0\n",
    "G.nodes[6][\"weight\"] = 1\n",
    "G.nodes[7][\"weight\"] = 1\n",
    "G.nodes[10][\"weight\"] = 1\n",
    "\n",
    "nx.draw(G, with_labels = True)"
   ]
  },
  {
   "cell_type": "code",
   "execution_count": 52,
   "metadata": {},
   "outputs": [
    {
     "name": "stdout",
     "output_type": "stream",
     "text": [
      "1 0.5\n",
      "2 0.5\n",
      "3 0.5\n",
      "4 0.5\n",
      "5 0\n",
      "6 1\n",
      "7 1\n",
      "8 0.5\n",
      "9 0.5\n",
      "10 1\n"
     ]
    }
   ],
   "source": [
    "for node in G.nodes():\n",
    "    print(node, G.nodes[node][\"weight\"])"
   ]
  },
  {
   "cell_type": "code",
   "execution_count": 54,
   "metadata": {},
   "outputs": [
    {
     "name": "stdout",
     "output_type": "stream",
     "text": [
      "1 0.5208333333333333\n",
      "2 0.4036458333333333\n",
      "3 0.6458333333333334\n",
      "4 0.44791666666666663\n",
      "5 0\n",
      "6 1\n",
      "7 1\n",
      "8 0.359375\n",
      "9 0.1875\n",
      "10 1\n"
     ]
    }
   ],
   "source": [
    "for i in range(2):\n",
    "    number = [0 for _ in range(len(G.nodes()))]\n",
    "    counter_ = 0\n",
    "    for node in G.nodes():\n",
    "        if G.nodes[node][\"weight\"] == 0 or G.nodes[node][\"weight\"] == 1:\n",
    "            number[counter_] = G.nodes[node][\"weight\"]\n",
    "            counter_ += 1\n",
    "            continue\n",
    "        prob = 0\n",
    "        counter = 0\n",
    "        for neigh in G.neighbors(node):\n",
    "            counter += 1\n",
    "            prob += G.nodes[neigh][\"weight\"]\n",
    "        number[counter_] = prob/counter\n",
    "        counter_ += 1\n",
    "    counter_ = 0\n",
    "    for node in G.nodes():\n",
    "        G.nodes[node][\"weight\"] = number[counter_]\n",
    "        counter_ += 1\n",
    "for node in G.nodes():\n",
    "    print(node, G.nodes[node][\"weight\"])    "
   ]
  },
  {
   "cell_type": "code",
   "execution_count": 46,
   "metadata": {},
   "outputs": [
    {
     "name": "stdout",
     "output_type": "stream",
     "text": [
      "2\n",
      "3\n"
     ]
    }
   ],
   "source": [
    "for node in G.neighbors(1):\n",
    "    print(node)"
   ]
  },
  {
   "cell_type": "code",
   "execution_count": null,
   "metadata": {},
   "outputs": [],
   "source": []
  },
  {
   "cell_type": "code",
   "execution_count": null,
   "metadata": {},
   "outputs": [],
   "source": []
  },
  {
   "cell_type": "code",
   "execution_count": null,
   "metadata": {},
   "outputs": [],
   "source": []
  },
  {
   "cell_type": "code",
   "execution_count": null,
   "metadata": {},
   "outputs": [],
   "source": []
  },
  {
   "cell_type": "code",
   "execution_count": null,
   "metadata": {},
   "outputs": [],
   "source": []
  }
 ],
 "metadata": {
  "kernelspec": {
   "display_name": "Python 3",
   "language": "python",
   "name": "python3"
  },
  "language_info": {
   "codemirror_mode": {
    "name": "ipython",
    "version": 3
   },
   "file_extension": ".py",
   "mimetype": "text/x-python",
   "name": "python",
   "nbconvert_exporter": "python",
   "pygments_lexer": "ipython3",
   "version": "3.7.6"
  }
 },
 "nbformat": 4,
 "nbformat_minor": 4
}
