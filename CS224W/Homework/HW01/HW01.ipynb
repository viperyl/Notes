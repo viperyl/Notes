{
 "cells": [
  {
   "cell_type": "markdown",
   "metadata": {},
   "source": [
    "# Problem 1\n",
    "\n",
    "Page Rank for user A whose teleport set is {1, 2, 3} is $v_A$\n",
    "    \n",
    "Page Rank for user B whose teleport set is {3, 4, 5} is $v_B$\n",
    "\n",
    "Page Rank for user C whose teleport set is {1, 4, 5} is $v_C$\n",
    "\n",
    "Page Rank for user D whose teleport set is {1} is $v_D$\n",
    "    \n",
    "    \n",
    "    \n",
    "    \n",
    "    \n",
    "    \n"
   ]
  },
  {
   "cell_type": "markdown",
   "metadata": {},
   "source": [
    "## 1.1\n",
    "$$\n",
    "\\Large\n",
    "v_E = v_A\n",
    "$$\n",
    "\n",
    "## 1.2\n",
    "\n",
    "$$\n",
    "\\Large\n",
    "v_F = \\frac{1}{2} v_B + \\frac{1}{2}v_C\n",
    "$$\n",
    "\n",
    "## 1.3\n",
    "\n",
    "$$\n",
    "\\Large\n",
    "v_G = \\frac{11.5}{30}v_A + \\frac{11.5}{30}v_B + \\frac{6}{30}v_C + \\frac{1}{30}v_D\n",
    "$$\n",
    "\n"
   ]
  },
  {
   "cell_type": "markdown",
   "metadata": {},
   "source": [
    "## 1.4"
   ]
  },
  {
   "cell_type": "markdown",
   "metadata": {},
   "source": [
    "## 1.5\n",
    "\n",
    "$$\n",
    "\\Large\n",
    "\\sum\\limits_{i=1}^{i=n} r_i = 1\\\\\n",
    "\\Large\n",
    "\\bf{r} = [r_1, r_2, ..., r_n]^T\\\\\n",
    "\\Large\n",
    "\\bf{1} = [1, 1, ..., 1]^T\\\\\n",
    "\\Large\n",
    "\\bf{r} = \\bf{Ar}\\\\\n",
    "\\Large\n",
    "\\bf{A} = \\beta\\bf{M} + \\frac{1-\\beta}{N}\\bf{11}^T\\\\\n",
    "\\Large\n",
    "\\bf{r} = [\\beta\\bf{M} + \\frac{1-\\beta}{N}\\bf{11}^T]\\bf{r}\n",
    "\\\\\n",
    "\\Large\n",
    "\\bf{r} = \\beta\\bf{M}\\bf{r} + \\frac{1-\\beta}{N}\\bf{11}^T\\bf{r}\n",
    "$$\n",
    "\n",
    "The next step is prove following equation\n",
    "\n",
    "$$\n",
    "\\Large\n",
    "\\bf{11}^T\\bf{r} = \\bf{1} \n",
    "$$\n",
    "\n",
    "$$\n",
    "\\Large\n",
    "\\bf{11}^T\\bf{r} = \\begin{bmatrix}1&...&1\\\\ ... &... &...\\\\ 1 &... &1\\end{bmatrix}\\begin{bmatrix}r_1\\\\ ... \\\\ r_n \\end{bmatrix}\\\\\n",
    "\\Large\n",
    "\\bf{11}^T\\bf{r} = \\begin{bmatrix}r_1 +r_2+...+r_n\\\\...\\\\r_1 +r_2+...+r_n\\end{bmatrix}\\\\\n",
    "\\Large\n",
    "\\bf{11}^T\\bf{r} = \\begin{bmatrix}1 \\\\ 1 \\\\ 1\\end{bmatrix} = \\bf{1}\n",
    "$$\n",
    "\n",
    "\n"
   ]
  },
  {
   "cell_type": "markdown",
   "metadata": {},
   "source": [
    "# Problem 2"
   ]
  },
  {
   "cell_type": "markdown",
   "metadata": {},
   "source": [
    "## 2.1, 2.2, 2.3\n",
    "\n",
    "According to HW01Code.ipynb result, we can obtain following result.\n",
    "\n",
    "$P(Y_3 = +) = 0.646$\n",
    "\n",
    "$P(Y_4 = +) = 0.448$\n",
    "\n",
    "$P(Y_8 = +) = 0.359$\n",
    "\n"
   ]
  },
  {
   "cell_type": "markdown",
   "metadata": {},
   "source": [
    "## 2.4\n",
    "\n",
    "Referring result from HW01Code.ipynb\n",
    "\n",
    "+: $Y_1, Y_3$\n",
    "\n",
    "-: $Y_2, Y_4, Y_8, Y_9$\n"
   ]
  },
  {
   "cell_type": "markdown",
   "metadata": {},
   "source": [
    "# Problem 3"
   ]
  },
  {
   "cell_type": "markdown",
   "metadata": {},
   "source": [
    "## 3.1\n",
    "\n",
    "In Bootstrap Phase, we use $f$, the result should refer the Table.1 \n",
    "\n",
    "Node 1; WordV 010; Label 0\n",
    "\n",
    "Node 2; WordV 111; Label 1\n",
    "\n",
    "Node 3; WordV 101; Label 1\n",
    "\n",
    "Node 4; WordV 101; Label 1\n",
    "\n",
    "Node 5; WordV 101; Label 1\n",
    "\n",
    "Node 6; WordV 010; Label 0\n",
    "\n",
    "Node 7; WordV 001; Label 0\n"
   ]
  },
  {
   "cell_type": "markdown",
   "metadata": {},
   "source": [
    "## 3.2\n",
    "\n",
    "refer the following function to complete Iteration phase\n",
    "\n",
    "$$\n",
    "\\begin{equation}\n",
    "g(WordV, LinkV) =\n",
    "\\begin{cases}\n",
    "  0 & \\text{if $I_0 = 1$ or WordV = 010}\\\\\n",
    "  1 & \\text{otherwise}\n",
    "\\end{cases}       \n",
    "\\end{equation}\n",
    "$$\n",
    "\n",
    "Update LinkV\n",
    "\n",
    "Node 1; WordV 010; Label 0; LinkV 0\n",
    "\n",
    "Node 2; WordV 111; Label 1; LinkV 1\n",
    "\n",
    "Node 3; WordV 101; Label 1; LinkV 0\n",
    "\n",
    "Node 4; WordV 101; Label 1; LinkV 1\n",
    "\n",
    "Node 5; WordV 101; Label 1; LinkV 1\n",
    "\n",
    "Node 6; WordV 010; Label 0; LinkV 0\n",
    "\n",
    "Node 7; WordV 001; Label 0; LinkV 1\n",
    "\n",
    "\n",
    "\n",
    "Update Label by $g$ function\n",
    "\n",
    "Node 1; WordV 010; Label 0; LinkV 0\n",
    "\n",
    "Node 2; WordV 111; Label 0; LinkV 1\n",
    "\n",
    "Node 3; WordV 101; Label 1; LinkV 0\n",
    "\n",
    "Node 4; WordV 101; Label 0; LinkV 1\n",
    "\n",
    "Node 5; WordV 101; Label 0; LinkV 1\n",
    "\n",
    "Node 6; WordV 010; Label 0; LinkV 0\n",
    "\n",
    "Node 7; WordV 001; Label 0; LinkV 1\n",
    "\n"
   ]
  },
  {
   "cell_type": "code",
   "execution_count": null,
   "metadata": {},
   "outputs": [],
   "source": []
  },
  {
   "cell_type": "code",
   "execution_count": null,
   "metadata": {},
   "outputs": [],
   "source": []
  },
  {
   "cell_type": "code",
   "execution_count": null,
   "metadata": {},
   "outputs": [],
   "source": []
  },
  {
   "cell_type": "code",
   "execution_count": null,
   "metadata": {},
   "outputs": [],
   "source": []
  },
  {
   "cell_type": "code",
   "execution_count": null,
   "metadata": {},
   "outputs": [],
   "source": []
  }
 ],
 "metadata": {
  "kernelspec": {
   "display_name": "Python 3",
   "language": "python",
   "name": "python3"
  },
  "language_info": {
   "codemirror_mode": {
    "name": "ipython",
    "version": 3
   },
   "file_extension": ".py",
   "mimetype": "text/x-python",
   "name": "python",
   "nbconvert_exporter": "python",
   "pygments_lexer": "ipython3",
   "version": "3.7.6"
  }
 },
 "nbformat": 4,
 "nbformat_minor": 4
}
